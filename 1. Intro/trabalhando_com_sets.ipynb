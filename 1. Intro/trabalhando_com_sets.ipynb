{
 "cells": [
  {
   "cell_type": "markdown",
   "metadata": {
    "id": "a_0iJT3mqcck"
   },
   "source": [
    "# **Trabalhando com Sets no Python**"
   ]
  },
  {
   "cell_type": "markdown",
   "metadata": {
    "id": "hwdXSll0wgSW"
   },
   "source": [
    "## **Criação dos sets**"
   ]
  },
  {
   "cell_type": "markdown",
   "metadata": {
    "id": "yfaf8Gn6jALR"
   },
   "source": [
    "### **Utilizando as chaves `{ }`:**\n",
    "\n",
    "\n"
   ]
  },
  {
   "cell_type": "code",
   "execution_count": 1,
   "metadata": {
    "colab": {
     "base_uri": "https://localhost:8080/"
    },
    "id": "FK3qZ08ckgXK",
    "outputId": "e1b6b335-fe11-4124-b364-d51fcade0728"
   },
   "outputs": [
    {
     "name": "stdout",
     "output_type": "stream",
     "text": [
      "{'Passat', 'Crossfox', 'Jetta Variant', 'Dodge Jorney'}\n"
     ]
    }
   ],
   "source": [
    "carros = {'Jetta Variant', 'Passat', 'Crossfox', 'Dodge Jorney'}\n",
    "\n",
    "print(carros)"
   ]
  },
  {
   "cell_type": "code",
   "execution_count": 2,
   "metadata": {
    "colab": {
     "base_uri": "https://localhost:8080/"
    },
    "id": "6A1qeFDQEKuM",
    "outputId": "d90b5af6-6831-4ff5-e0bb-283cdb367d52"
   },
   "outputs": [
    {
     "name": "stdout",
     "output_type": "stream",
     "text": [
      "{2017, 37123.04, 'Onix', True}\n"
     ]
    }
   ],
   "source": [
    "# Sets com elementos diferentes\n",
    "\n",
    "elementos_diferentes = {2017, \"Onix\", 37123.04, True}\n",
    "print(elementos_diferentes)"
   ]
  },
  {
   "cell_type": "code",
   "execution_count": 4,
   "metadata": {
    "colab": {
     "base_uri": "https://localhost:8080/"
    },
    "id": "dcccTfDPa_bH",
    "outputId": "032807a3-10d9-40c7-bf8d-d4c7e66888ec"
   },
   "outputs": [
    {
     "name": "stdout",
     "output_type": "stream",
     "text": [
      "Passat\n",
      "Crossfox\n",
      "Jetta Variant\n",
      "Dodge Jorney\n"
     ]
    }
   ],
   "source": [
    "for i in carros:\n",
    "  print(i)"
   ]
  },
  {
   "cell_type": "markdown",
   "metadata": {
    "id": "A7YsVhE6jHxL"
   },
   "source": [
    "### **Utilizando listas e a função `set()`**"
   ]
  },
  {
   "cell_type": "code",
   "execution_count": 6,
   "metadata": {
    "id": "SPF6Lemvr155"
   },
   "outputs": [],
   "source": [
    "lista_escolas = ['Data Science', 'Programação', 'Front-end', \n",
    "                 'Mobile', 'DevOps', 'UX & Design', 'Inovação e Gestão']"
   ]
  },
  {
   "cell_type": "code",
   "execution_count": 7,
   "metadata": {
    "colab": {
     "base_uri": "https://localhost:8080/"
    },
    "id": "z4XSX7EUQZTk",
    "outputId": "32728ba8-0e33-4310-d0bc-4a5e1c7f6f55"
   },
   "outputs": [
    {
     "name": "stdout",
     "output_type": "stream",
     "text": [
      "{'UX & Design', 'Mobile', 'Programação', 'Data Science', 'DevOps', 'Inovação e Gestão', 'Front-end'}\n"
     ]
    }
   ],
   "source": [
    "escolas_set = set(lista_escolas)\n",
    "\n",
    "print(escolas_set)"
   ]
  },
  {
   "cell_type": "markdown",
   "metadata": {
    "id": "L65NhBb1jawr"
   },
   "source": [
    "### **Trabalhando com elementos repetidos:**"
   ]
  },
  {
   "cell_type": "code",
   "execution_count": 8,
   "metadata": {
    "id": "VzHw4PPKr1-O"
   },
   "outputs": [],
   "source": [
    "lista_carros = ['Jetta Variant', 'Passat', 'Crossfox', 'Passat', 'Crossfox',\n",
    "                'Jetta Variant', 'Dodge Journey']\n",
    "nova_lista = set(lista_carros)"
   ]
  },
  {
   "cell_type": "code",
   "execution_count": 9,
   "metadata": {
    "colab": {
     "base_uri": "https://localhost:8080/"
    },
    "id": "LZAOxogMd8qW",
    "outputId": "0ce9f7b1-b05e-4f93-816f-66bc250a752e"
   },
   "outputs": [
    {
     "name": "stdout",
     "output_type": "stream",
     "text": [
      "7\n"
     ]
    }
   ],
   "source": [
    "# Utilizando a função len() para verificar a quantidade de elementos\n",
    "print(len(lista_carros))"
   ]
  },
  {
   "cell_type": "code",
   "execution_count": 10,
   "metadata": {
    "colab": {
     "base_uri": "https://localhost:8080/"
    },
    "id": "rGMVqeWhd9YO",
    "outputId": "62b896da-6f46-413f-b824-259f9eb9a838"
   },
   "outputs": [
    {
     "name": "stdout",
     "output_type": "stream",
     "text": [
      "{'Passat', 'Dodge Journey', 'Crossfox', 'Jetta Variant'}\n"
     ]
    }
   ],
   "source": [
    "print(nova_lista)"
   ]
  },
  {
   "cell_type": "code",
   "execution_count": 11,
   "metadata": {
    "colab": {
     "base_uri": "https://localhost:8080/"
    },
    "id": "rXUxHPawWq8x",
    "outputId": "f3a43e8b-26e3-4707-cd8d-d92327bcc116"
   },
   "outputs": [
    {
     "data": {
      "text/plain": [
       "4"
      ]
     },
     "execution_count": 11,
     "metadata": {},
     "output_type": "execute_result"
    }
   ],
   "source": [
    "len(nova_lista)"
   ]
  },
  {
   "cell_type": "markdown",
   "metadata": {
    "id": "U8Ur2s1KQlgv"
   },
   "source": [
    "## **Operações com Sets**\n"
   ]
  },
  {
   "cell_type": "markdown",
   "metadata": {
    "id": "Jcko59YgXiT4"
   },
   "source": [
    "Para esse exercício, vamos precisar criar conjuntos com os **acessórios** de alguns modelos de carros, são eles: **Passat**, **Crossfox** e **Jetta Variant**. "
   ]
  },
  {
   "cell_type": "code",
   "execution_count": 12,
   "metadata": {
    "colab": {
     "base_uri": "https://localhost:8080/"
    },
    "id": "zA95t7-YXoE4",
    "outputId": "59bd1b5f-4016-408b-c915-9c782cbeaf6a"
   },
   "outputs": [
    {
     "name": "stdout",
     "output_type": "stream",
     "text": [
      "{'Rodas de Liga', 'Travas Elétricas', 'Central Multimídia', 'Piloto Automático'}\n"
     ]
    }
   ],
   "source": [
    "acessorios_passat = {'Rodas de Liga', 'Travas Elétricas', 'Piloto Automático', \n",
    "                     'Central Multimídia'}\n",
    "print(acessorios_passat)"
   ]
  },
  {
   "cell_type": "code",
   "execution_count": 13,
   "metadata": {
    "colab": {
     "base_uri": "https://localhost:8080/"
    },
    "id": "lfgMiNEyXoE5",
    "outputId": "40b075b5-2a00-4d09-d004-99c531c7ee46"
   },
   "outputs": [
    {
     "name": "stdout",
     "output_type": "stream",
     "text": [
      "{'4 X 4', 'Piloto Automático', 'Teto Panorâmico', 'Central Multimídia'}\n"
     ]
    }
   ],
   "source": [
    "acessorios_crossfox = {'Piloto Automático', 'Teto Panorâmico', '4 X 4', \n",
    "                       'Central Multimídia'}\n",
    "print(acessorios_crossfox)"
   ]
  },
  {
   "cell_type": "code",
   "execution_count": 14,
   "metadata": {
    "colab": {
     "base_uri": "https://localhost:8080/"
    },
    "id": "2dsJa9sAXoE5",
    "outputId": "fcc4ece7-ab5d-48a1-9c5e-09942060aa98"
   },
   "outputs": [
    {
     "name": "stdout",
     "output_type": "stream",
     "text": [
      "{'Rodas de Liga', 'Câmbio Automático', 'Controle de Estabilidade', 'Travas Elétricas'}\n"
     ]
    }
   ],
   "source": [
    "acessorios_jetta = {'Controle de Estabilidade', 'Câmbio Automático', 'Travas Elétricas', \n",
    "                    'Rodas de Liga'}\n",
    "print(acessorios_jetta)"
   ]
  },
  {
   "cell_type": "markdown",
   "metadata": {
    "id": "Pp7URtpTQnXn"
   },
   "source": [
    "### **Disjunção**"
   ]
  },
  {
   "cell_type": "markdown",
   "metadata": {
    "id": "IRmgINkLWsjs"
   },
   "source": [
    "<img src='https://i.imgur.com/o2wsgPo.png' width = 50%>"
   ]
  },
  {
   "cell_type": "code",
   "execution_count": 15,
   "metadata": {
    "colab": {
     "base_uri": "https://localhost:8080/"
    },
    "id": "n3GfcrMHW4nu",
    "outputId": "5ef94e0c-0e81-42e0-d41b-9e76ac6dd48b"
   },
   "outputs": [
    {
     "data": {
      "text/plain": [
       "False"
      ]
     },
     "execution_count": 15,
     "metadata": {},
     "output_type": "execute_result"
    }
   ],
   "source": [
    "set.isdisjoint(acessorios_passat, acessorios_crossfox)"
   ]
  },
  {
   "cell_type": "markdown",
   "metadata": {
    "id": "0YYUbNDFWpvB"
   },
   "source": [
    "### **Interseção**"
   ]
  },
  {
   "cell_type": "markdown",
   "metadata": {
    "id": "0OPz9M8vW-BZ"
   },
   "source": [
    "<img src='https://i.imgur.com/6W7bxU1.png' width = 50%>"
   ]
  },
  {
   "cell_type": "code",
   "execution_count": 16,
   "metadata": {
    "colab": {
     "base_uri": "https://localhost:8080/"
    },
    "id": "7Xg8Tyb3XIbs",
    "outputId": "5f70469b-7e0b-4b55-b51b-099badfacd43"
   },
   "outputs": [
    {
     "data": {
      "text/plain": [
       "{'Central Multimídia', 'Piloto Automático'}"
      ]
     },
     "execution_count": 16,
     "metadata": {},
     "output_type": "execute_result"
    }
   ],
   "source": [
    "acessorios_passat & acessorios_crossfox"
   ]
  },
  {
   "cell_type": "code",
   "execution_count": null,
   "metadata": {
    "colab": {
     "base_uri": "https://localhost:8080/"
    },
    "id": "xQ6X-XbsYz_T",
    "outputId": "66e12a51-6e08-4537-8229-690b4051be68"
   },
   "outputs": [
    {
     "data": {
      "text/plain": [
       "{'Rodas de Liga', 'Travas Elétricas'}"
      ]
     },
     "execution_count": 17,
     "metadata": {},
     "output_type": "execute_result"
    }
   ],
   "source": [
    "acessorios_passat & acessorios_jetta"
   ]
  },
  {
   "cell_type": "code",
   "execution_count": 17,
   "metadata": {
    "colab": {
     "base_uri": "https://localhost:8080/"
    },
    "id": "OHa9LqNdY2ht",
    "outputId": "18ae812a-0487-4c86-ab3d-33a9b2322009"
   },
   "outputs": [
    {
     "data": {
      "text/plain": [
       "set()"
      ]
     },
     "execution_count": 17,
     "metadata": {},
     "output_type": "execute_result"
    }
   ],
   "source": [
    "set.intersection(acessorios_passat, acessorios_crossfox, acessorios_jetta)"
   ]
  },
  {
   "cell_type": "markdown",
   "metadata": {
    "id": "GzUoqpFVZGIu"
   },
   "source": [
    "### **União**"
   ]
  },
  {
   "cell_type": "markdown",
   "metadata": {
    "id": "Me_90Pk7ZG9d"
   },
   "source": [
    "<img src='https://i.imgur.com/C3MrKmK.png' width = 50%>"
   ]
  },
  {
   "cell_type": "code",
   "execution_count": 18,
   "metadata": {
    "colab": {
     "base_uri": "https://localhost:8080/"
    },
    "id": "kYo9i7g5WrX_",
    "outputId": "5d2b285d-d4f6-4ace-a754-1c0e99bcfb67"
   },
   "outputs": [
    {
     "data": {
      "text/plain": [
       "{'4 X 4',\n",
       " 'Central Multimídia',\n",
       " 'Piloto Automático',\n",
       " 'Rodas de Liga',\n",
       " 'Teto Panorâmico',\n",
       " 'Travas Elétricas'}"
      ]
     },
     "execution_count": 18,
     "metadata": {},
     "output_type": "execute_result"
    }
   ],
   "source": [
    "acessorios_passat | acessorios_crossfox"
   ]
  },
  {
   "cell_type": "code",
   "execution_count": 19,
   "metadata": {
    "colab": {
     "base_uri": "https://localhost:8080/"
    },
    "id": "h7RZmv19auKU",
    "outputId": "27286b33-f210-44b8-abb6-570a477347f8"
   },
   "outputs": [
    {
     "data": {
      "text/plain": [
       "{'4 X 4',\n",
       " 'Central Multimídia',\n",
       " 'Controle de Estabilidade',\n",
       " 'Câmbio Automático',\n",
       " 'Piloto Automático',\n",
       " 'Rodas de Liga',\n",
       " 'Teto Panorâmico',\n",
       " 'Teto Solar',\n",
       " 'Travas Elétricas'}"
      ]
     },
     "execution_count": 19,
     "metadata": {},
     "output_type": "execute_result"
    }
   ],
   "source": [
    "set.union(acessorios_passat, acessorios_crossfox, acessorios_jetta, {'Teto Solar'})"
   ]
  },
  {
   "cell_type": "markdown",
   "metadata": {
    "id": "wMelozu-ijag"
   },
   "source": [
    "## **Perfomance**"
   ]
  },
  {
   "cell_type": "code",
   "execution_count": 20,
   "metadata": {
    "colab": {
     "base_uri": "https://localhost:8080/"
    },
    "id": "EhyRdV4CLvVX",
    "outputId": "fefef708-76fd-4c26-f167-5b68e328368d"
   },
   "outputs": [
    {
     "data": {
      "text/plain": [
       "{'Crossfox', 'Dodge Jorney', 'Jetta Variant', 'Passat'}"
      ]
     },
     "execution_count": 20,
     "metadata": {},
     "output_type": "execute_result"
    }
   ],
   "source": [
    "carros"
   ]
  },
  {
   "cell_type": "code",
   "execution_count": 21,
   "metadata": {
    "colab": {
     "base_uri": "https://localhost:8080/"
    },
    "id": "PnRZ7Dp0Lwrt",
    "outputId": "9289fce6-5c30-4215-fbdf-7b388f90e98f"
   },
   "outputs": [
    {
     "data": {
      "text/plain": [
       "True"
      ]
     },
     "execution_count": 21,
     "metadata": {},
     "output_type": "execute_result"
    }
   ],
   "source": [
    "'Crossfox' in carros"
   ]
  },
  {
   "cell_type": "markdown",
   "metadata": {
    "id": "xLpWitV6L0At"
   },
   "source": [
    "### **Perfomance com vários elementos**"
   ]
  },
  {
   "cell_type": "code",
   "execution_count": 22,
   "metadata": {
    "id": "-OErengzhloO"
   },
   "outputs": [],
   "source": [
    "elementos_set = set(range(10000))\n",
    "elementos_list = list(range(10000))\n",
    "elementos_tuple = tuple(range(10000)) "
   ]
  },
  {
   "cell_type": "code",
   "execution_count": 23,
   "metadata": {
    "id": "r5v0f69hhQpJ"
   },
   "outputs": [],
   "source": [
    "def verificar_elemento_in(elemento_iteravel):\n",
    "\n",
    "  for i in range(10000):\n",
    "    if i in elemento_iteravel:\n",
    "      pass"
   ]
  },
  {
   "cell_type": "code",
   "execution_count": 24,
   "metadata": {
    "colab": {
     "base_uri": "https://localhost:8080/"
    },
    "id": "Ny1_EsyZJxea",
    "outputId": "47b4804d-b711-4476-e686-2e66e9783ecd"
   },
   "outputs": [
    {
     "name": "stdout",
     "output_type": "stream",
     "text": [
      "Tempo de execução set: \n",
      "CPU times: total: 0 ns\n",
      "Wall time: 1.01 ms\n",
      "==============================\n",
      "Tempo de execução lista: \n",
      "CPU times: total: 734 ms\n",
      "Wall time: 736 ms\n",
      "==============================\n",
      "Tempo de execução tuplas: \n",
      "CPU times: total: 609 ms\n",
      "Wall time: 597 ms\n",
      "==============================\n"
     ]
    }
   ],
   "source": [
    "print(\"Tempo de execução set: \")\n",
    "%time verificar_elemento_in(elementos_set)\n",
    "print(\"=\"*30)\n",
    "\n",
    "print(\"Tempo de execução lista: \")\n",
    "%time verificar_elemento_in(elementos_list)\n",
    "print(\"=\"*30)\n",
    "\n",
    "print(\"Tempo de execução tuplas: \")\n",
    "%time verificar_elemento_in(elementos_tuple)\n",
    "print(\"=\"*30)"
   ]
  }
 ],
 "metadata": {
  "colab": {
   "collapsed_sections": [
    "ehKwJvXMbEuW"
   ],
   "provenance": []
  },
  "kernelspec": {
   "display_name": "Python [conda env:base] *",
   "language": "python",
   "name": "conda-base-py"
  },
  "language_info": {
   "codemirror_mode": {
    "name": "ipython",
    "version": 3
   },
   "file_extension": ".py",
   "mimetype": "text/x-python",
   "name": "python",
   "nbconvert_exporter": "python",
   "pygments_lexer": "ipython3",
   "version": "3.12.7"
  }
 },
 "nbformat": 4,
 "nbformat_minor": 4
}
