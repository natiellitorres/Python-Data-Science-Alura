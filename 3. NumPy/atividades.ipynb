{
 "cells": [
  {
   "cell_type": "markdown",
   "metadata": {
    "id": "MDEopNpWHa21"
   },
   "source": [
    "O dataset utilizado para esse desafio é uma versão modificada do arquivo presente no Kaggle:\n",
    "https://www.kaggle.com/datasets/joshmcadams/oranges-vs-grapefruit\n",
    "\n",
    "O link do arquivo raw que vamos usar (aquele usamos para ler direto do Github) é esse aqui:\n",
    "https://raw.githubusercontent.com/allanspadini/numpy/dados/citrus.csv"
   ]
  },
  {
   "cell_type": "markdown",
   "metadata": {
    "id": "tD0UDJwx11Pm"
   },
   "source": [
    "# Leitura dos dados"
   ]
  },
  {
   "cell_type": "markdown",
   "metadata": {
    "id": "JtAll0D51rnJ"
   },
   "source": [
    "Se você clicar no link verá que temos um arquivo com 6 colunas, sendo a primeira coluna do arquivo uma coluna de texto e a primeira linha do arquivo também é uma coluna de texto.\n",
    "\n",
    "Aqui o desafio é ler esse arquivo. Para isso importe a numpy e use a função loadtxt. Use o link da url, o parâmetro usecols para pular a primeira coluna. Você pode usar np.arange para criar a sequência de números que representam as colunas. Por fim, você também deve incluir o parâmetro skiprows=1 para que a primeira linha de texto seja desconsiderada na leitura do arquivo."
   ]
  },
  {
   "cell_type": "code",
   "execution_count": 1,
   "metadata": {
    "executionInfo": {
     "elapsed": 400,
     "status": "ok",
     "timestamp": 1748968221004,
     "user": {
      "displayName": "Natielli Torres",
      "userId": "07369505193852936460"
     },
     "user_tz": 180
    },
    "id": "ATVhjGg0HZs1"
   },
   "outputs": [],
   "source": [
    "import numpy as np\n",
    "url = 'dados/citrus.csv'\n",
    "dado = np.loadtxt(url, delimiter=',',usecols=np.arange(1,6,1),skiprows=1)"
   ]
  },
  {
   "cell_type": "code",
   "execution_count": 2,
   "metadata": {
    "colab": {
     "base_uri": "https://localhost:8080/"
    },
    "executionInfo": {
     "elapsed": 7,
     "status": "ok",
     "timestamp": 1748968221015,
     "user": {
      "displayName": "Natielli Torres",
      "userId": "07369505193852936460"
     },
     "user_tz": 180
    },
    "id": "pzam9O055DCe",
    "outputId": "5f1ee653-567d-4717-eed2-bc44e9437ea3"
   },
   "outputs": [
    {
     "data": {
      "text/plain": [
       "array([[  2.96,  86.76, 172.  ,  85.  ,   2.  ],\n",
       "       [  3.91,  88.05, 166.  ,  78.  ,   3.  ],\n",
       "       [  4.42,  95.17, 156.  ,  81.  ,   2.  ],\n",
       "       ...,\n",
       "       [ 15.59, 256.5 , 168.  ,  82.  ,  20.  ],\n",
       "       [ 15.92, 260.14, 142.  ,  72.  ,  11.  ],\n",
       "       [ 16.45, 261.51, 152.  ,  74.  ,   2.  ]])"
      ]
     },
     "execution_count": 2,
     "metadata": {},
     "output_type": "execute_result"
    }
   ],
   "source": [
    "dado"
   ]
  },
  {
   "cell_type": "markdown",
   "metadata": {
    "id": "iBFZDsV75fjE"
   },
   "source": [
    "# Seleção de dados"
   ]
  },
  {
   "cell_type": "markdown",
   "metadata": {
    "id": "IDkwBFww5nEq"
   },
   "source": [
    "Desses a colunas que iremos avaliar são as de diâmetro e peso. Crie um arrays específicos para guardar o diâmetro e peso da laranja e toranja. O diâmtro está na coluna zero e o peso na coluna 1. Os dados referentes a laranja vão até a linha 4999 e os referentes à toranja iniciam na linha 5000 do arquivo."
   ]
  },
  {
   "cell_type": "code",
   "execution_count": 3,
   "metadata": {
    "executionInfo": {
     "elapsed": 2,
     "status": "ok",
     "timestamp": 1748968221018,
     "user": {
      "displayName": "Natielli Torres",
      "userId": "07369505193852936460"
     },
     "user_tz": 180
    },
    "id": "cyzpCTh75Ih0"
   },
   "outputs": [],
   "source": [
    "diametro_laranja = dado[:5000,0]\n",
    "diametro_toranja = dado[5000:,0]\n",
    "peso_laranja = dado[:5000,1]\n",
    "peso_toranja = dado[5000:,1]"
   ]
  },
  {
   "cell_type": "markdown",
   "metadata": {
    "id": "mcXYXlLC81em"
   },
   "source": [
    "# Visualização de dados"
   ]
  },
  {
   "cell_type": "markdown",
   "metadata": {
    "id": "BVOuTNe485QX"
   },
   "source": [
    "Importe a biblioteca matplotlib e crie um gráfico separado para a laranja e outro para a toranja do peso pelo diâmetro."
   ]
  },
  {
   "cell_type": "code",
   "execution_count": 4,
   "metadata": {
    "colab": {
     "base_uri": "https://localhost:8080/",
     "height": 447
    },
    "executionInfo": {
     "elapsed": 658,
     "status": "ok",
     "timestamp": 1748968221678,
     "user": {
      "displayName": "Natielli Torres",
      "userId": "07369505193852936460"
     },
     "user_tz": 180
    },
    "id": "4K68mbLk8DvJ",
    "outputId": "1bfe8fb6-28d1-4709-8e6b-6cab20d3ec08"
   },
   "outputs": [
    {
     "data": {
      "text/plain": [
       "[<matplotlib.lines.Line2D at 0x21d22e68920>]"
      ]
     },
     "execution_count": 4,
     "metadata": {},
     "output_type": "execute_result"
    },
    {
     "data": {
      "image/png": "[encoded data removed]",
      "text/plain": [
       "<Figure size 640x480 with 1 Axes>"
      ]
     },
     "metadata": {},
     "output_type": "display_data"
    }
   ],
   "source": [
    "import matplotlib.pyplot as plt\n",
    "\n",
    "plt.plot(diametro_laranja, peso_laranja)\n",
    "plt.plot(diametro_toranja, peso_toranja)"
   ]
  },
  {
   "cell_type": "markdown",
   "metadata": {
    "id": "-aGgWuRB-Uqv"
   },
   "source": [
    "# O coeficiente das retas"
   ]
  },
  {
   "cell_type": "markdown",
   "metadata": {
    "id": "vc814-m7B1Xh"
   },
   "source": [
    "As duas parecem ter uma inclinação muito parecida em uma primeira inspeção visual vamos determinar os coeficientes da reta para cada um dos casos.\n",
    "\n",
    "Lembre que para o coeficiente angular precisamos implementar a função:\n",
    "$$ \\hat{a} = \\frac{n*Soma( X_i*Y_i ) - Soma( X_i )*Soma(Y_i)}{n Soma(X_i^2) - (Soma(X_i))^2}$$\n",
    "\n",
    "e para o coeficiente linear:\n",
    "$$ \\hat{b} = Media(Y_i) - \\hat{a} * Media(X_i) $$\n"
   ]
  },
  {
   "cell_type": "markdown",
   "metadata": {
    "id": "d4Hk5fyPCf3v"
   },
   "source": [
    "Perceba que nesse caso o X é o diâmtro e o Y é o peso. Além disso o n é o número de elementos dentro do X, por exemplo.Ele vai ser diferente para a laranja e toranja. Determine o coefiecente para cada caso:"
   ]
  },
  {
   "cell_type": "code",
   "execution_count": 5,
   "metadata": {
    "executionInfo": {
     "elapsed": 36,
     "status": "ok",
     "timestamp": 1748968221731,
     "user": {
      "displayName": "Natielli Torres",
      "userId": "07369505193852936460"
     },
     "user_tz": 180
    },
    "id": "n3J8iOeDBkgn"
   },
   "outputs": [],
   "source": [
    "Y = peso_laranja\n",
    "X = diametro_laranja\n",
    "n = np.size(X)"
   ]
  },
  {
   "cell_type": "code",
   "execution_count": 6,
   "metadata": {
    "colab": {
     "base_uri": "https://localhost:8080/"
    },
    "executionInfo": {
     "elapsed": 22,
     "status": "ok",
     "timestamp": 1748968221757,
     "user": {
      "displayName": "Natielli Torres",
      "userId": "07369505193852936460"
     },
     "user_tz": 180
    },
    "id": "OdUBKX3WDClF",
    "outputId": "7d01d013-0f0b-469f-abf4-a6fd1a1ceeff"
   },
   "outputs": [
    {
     "data": {
      "text/plain": [
       "14.7997452319846"
      ]
     },
     "execution_count": 6,
     "metadata": {},
     "output_type": "execute_result"
    }
   ],
   "source": [
    "a = (n*np.sum(X*Y) - np.sum(X)*np.sum(Y))/(n*np.sum(X**2)-np.sum(X)**2)\n",
    "a"
   ]
  },
  {
   "cell_type": "code",
   "execution_count": 7,
   "metadata": {
    "colab": {
     "base_uri": "https://localhost:8080/"
    },
    "executionInfo": {
     "elapsed": 8,
     "status": "ok",
     "timestamp": 1748968221760,
     "user": {
      "displayName": "Natielli Torres",
      "userId": "07369505193852936460"
     },
     "user_tz": 180
    },
    "id": "31oiIbk5DEcu",
    "outputId": "f228caf1-b119-481e-860a-9bfd58ae5810"
   },
   "outputs": [
    {
     "data": {
      "text/plain": [
       "27.38560381218413"
      ]
     },
     "execution_count": 7,
     "metadata": {},
     "output_type": "execute_result"
    }
   ],
   "source": [
    "b = np.mean(Y) - a*np.mean(X)\n",
    "b"
   ]
  },
  {
   "cell_type": "code",
   "execution_count": 8,
   "metadata": {
    "executionInfo": {
     "elapsed": 70,
     "status": "ok",
     "timestamp": 1748968369182,
     "user": {
      "displayName": "Natielli Torres",
      "userId": "07369505193852936460"
     },
     "user_tz": 180
    },
    "id": "LgVZSkLaDG_W"
   },
   "outputs": [],
   "source": [
    "Yt = peso_toranja\n",
    "Xt = diametro_toranja\n",
    "nt = np.size(Xt)"
   ]
  },
  {
   "cell_type": "code",
   "execution_count": 9,
   "metadata": {
    "colab": {
     "base_uri": "https://localhost:8080/"
    },
    "executionInfo": {
     "elapsed": 8,
     "status": "ok",
     "timestamp": 1748968264776,
     "user": {
      "displayName": "Natielli Torres",
      "userId": "07369505193852936460"
     },
     "user_tz": 180
    },
    "id": "C7CT4dwqDPlJ",
    "outputId": "052fc3ae-0055-4ef5-ca3d-06747fca646b"
   },
   "outputs": [
    {
     "data": {
      "text/plain": [
       "15.70884459360376"
      ]
     },
     "execution_count": 9,
     "metadata": {},
     "output_type": "execute_result"
    }
   ],
   "source": [
    "c = (nt*np.sum(Xt*Yt) - np.sum(Xt)*np.sum(Yt))/(nt*np.sum(Xt**2)-np.sum(Xt)**2)\n",
    "c"
   ]
  },
  {
   "cell_type": "code",
   "execution_count": 10,
   "metadata": {
    "colab": {
     "base_uri": "https://localhost:8080/"
    },
    "executionInfo": {
     "elapsed": 6,
     "status": "ok",
     "timestamp": 1748968416276,
     "user": {
      "displayName": "Natielli Torres",
      "userId": "07369505193852936460"
     },
     "user_tz": 180
    },
    "id": "4VMDvta8DRad",
    "outputId": "073df737-e896-47b3-e695-c60e4bb3f663"
   },
   "outputs": [
    {
     "data": {
      "text/plain": [
       "17.007102876817726"
      ]
     },
     "execution_count": 10,
     "metadata": {},
     "output_type": "execute_result"
    }
   ],
   "source": [
    "d = np.mean(Yt) - c*np.mean(Xt)\n",
    "d"
   ]
  },
  {
   "cell_type": "markdown",
   "metadata": {
    "id": "cJykILasqTJb"
   },
   "source": [
    "# Extra - Gráfico de Comparação Laranja vs Toranja #"
   ]
  },
  {
   "cell_type": "code",
   "execution_count": 11,
   "metadata": {
    "colab": {
     "base_uri": "https://localhost:8080/",
     "height": 564
    },
    "executionInfo": {
     "elapsed": 464,
     "status": "ok",
     "timestamp": 1748968775961,
     "user": {
      "displayName": "Natielli Torres",
      "userId": "07369505193852936460"
     },
     "user_tz": 180
    },
    "id": "I5ND-ugZprmw",
    "outputId": "73cbfafc-1ec2-4342-b73e-7b009d489023"
   },
   "outputs": [
    {
     "data": {
      "image/png": "[encoded data removed]",
      "text/plain": [
       "<Figure size 1000x600 with 1 Axes>"
      ]
     },
     "metadata": {},
     "output_type": "display_data"
    }
   ],
   "source": [
    "# Calcular pontos da reta da laranja\n",
    "x_reg = np.linspace(min(diametro_laranja), max(diametro_laranja), 100)\n",
    "y_reg = a * x_reg + b\n",
    "\n",
    "# Calcular pontos da reta da toranja\n",
    "xt_reg = np.linspace(min(diametro_toranja), max(diametro_toranja), 100)\n",
    "yt_reg = c * xt_reg + d\n",
    "\n",
    "# Dois gráficos juntos para comparar\n",
    "plt.figure(figsize=(10,6))\n",
    "\n",
    "# Laranja\n",
    "plt.scatter(diametro_laranja, peso_laranja, color='orange', alpha=0.5, label='Laranja')\n",
    "plt.plot(x_reg, y_reg, color='red', label=f'Regressão Laranja: y={a:.2f}x + {b:.2f}')\n",
    "\n",
    "# Toranja\n",
    "plt.scatter(diametro_toranja, peso_toranja, color='green', alpha=0.5, label='Toranja')\n",
    "plt.plot(xt_reg, yt_reg, color='blue', label=f'Regressão Toranja: y={c:.2f}x + {d:.2f}')\n",
    "\n",
    "plt.xlabel(\"Diâmetro (cm)\")\n",
    "plt.ylabel(\"Peso (g)\")\n",
    "plt.title(\"Comparação Laranja vs Toranja\")\n",
    "plt.legend()\n",
    "plt.grid(True)\n",
    "plt.show()"
   ]
  },
  {
   "cell_type": "markdown",
   "metadata": {
    "id": "gnovlUPFD0dL"
   },
   "source": [
    "# Estimando através de números aleatórios"
   ]
  },
  {
   "cell_type": "markdown",
   "metadata": {
    "id": "wyjSiESPD75_"
   },
   "source": [
    "Agora ao invés de usar a fórmula fechada utilize a np.random.uniform para gerar valores aleatórios para determinar o coeficiente angular da toranja. Nesse caso vamos assumir que b é igual a 17. Utilize o random.seed(84)."
   ]
  },
  {
   "cell_type": "code",
   "execution_count": 12,
   "metadata": {
    "executionInfo": {
     "elapsed": 4,
     "status": "ok",
     "timestamp": 1748968422340,
     "user": {
      "displayName": "Natielli Torres",
      "userId": "07369505193852936460"
     },
     "user_tz": 180
    },
    "id": "BBVu9EVqDT-R"
   },
   "outputs": [],
   "source": [
    "b =17"
   ]
  },
  {
   "cell_type": "code",
   "execution_count": 13,
   "metadata": {
    "executionInfo": {
     "elapsed": 17,
     "status": "ok",
     "timestamp": 1748968423112,
     "user": {
      "displayName": "Natielli Torres",
      "userId": "07369505193852936460"
     },
     "user_tz": 180
    },
    "id": "_M7pZGIpEXxZ"
   },
   "outputs": [],
   "source": [
    "norma = np.array([])\n",
    "np.random.seed(84)\n",
    "coef_angulares = np.random.uniform(low=0.0,high=30.0,size=100)\n",
    "\n",
    "for i in range(100):\n",
    "  norma = np.append(norma,np.linalg.norm(Y- (coef_angulares[i]*X+b)))"
   ]
  },
  {
   "cell_type": "code",
   "execution_count": 14,
   "metadata": {
    "colab": {
     "base_uri": "https://localhost:8080/"
    },
    "executionInfo": {
     "elapsed": 8,
     "status": "ok",
     "timestamp": 1748968424177,
     "user": {
      "displayName": "Natielli Torres",
      "userId": "07369505193852936460"
     },
     "user_tz": 180
    },
    "id": "PIyp8gDlEqa2",
    "outputId": "e00f949c-bfa5-4bcf-d16e-4e6a4f8f6c20"
   },
   "outputs": [
    {
     "data": {
      "text/plain": [
       "array([8856.43555923, 2965.7067987 , 5289.6705558 , 1734.02010579,\n",
       "       8303.40020629, 7319.9773923 , 6538.5555502 , 4999.02697864,\n",
       "       2091.4471608 , 7312.14791917, 4415.14472694,  700.30995733,\n",
       "       7883.5032911 , 4289.06273091, 2157.10668452,  124.90062348,\n",
       "       6430.12215427, 6022.56908374, 7402.44741046, 7769.83714738,\n",
       "       1457.47467874, 6447.66673324, 8345.11729062, 8409.215505  ,\n",
       "       3219.39412319, 5566.04507227, 1907.97717376, 5883.75125593,\n",
       "       8091.08422333, 7177.80927703,  380.85240501, 4846.03337764,\n",
       "       4029.23235841, 3678.50443037, 7042.97877975, 5225.97959212,\n",
       "       6765.19059435,  645.958023  , 3677.90296679, 6152.35201175,\n",
       "       7033.95393852, 2791.11389048, 8385.34280504, 4518.57861037,\n",
       "        609.40651346, 7506.79948258, 8905.10414661, 6824.53106715,\n",
       "       1826.29821292, 2839.07618408, 8599.55186446, 1667.97624922,\n",
       "        835.16987189, 2212.72471994, 1490.54711199,  370.25985486,\n",
       "       7298.62000652, 4888.19302449, 9371.85905419, 3003.34113954,\n",
       "       4982.20470649, 1985.46718408,  157.74398306, 5436.83497002,\n",
       "       3313.19943979, 6248.27260588, 9379.03394387, 8132.84572648,\n",
       "       5049.09052319, 7770.66811951, 9461.78567724, 4548.41282577,\n",
       "       5562.20144279, 9643.49849447, 3352.21705306, 1702.97405775,\n",
       "       6394.24963133,  477.51293887, 4554.09419323, 7611.69614379,\n",
       "       1068.59988195, 4967.67968056, 4077.91081763, 9304.61705383,\n",
       "       4556.28942025, 5005.92393492, 7537.01479202, 3448.6809728 ,\n",
       "       5376.62726081,  739.43376483, 7452.6723572 ,  842.43996119,\n",
       "        230.7055219 ,  927.25875666, 1320.24553161,  153.19388324,\n",
       "       1733.86396738, 3285.14947309, 3920.85768602, 3809.79139073])"
      ]
     },
     "execution_count": 14,
     "metadata": {},
     "output_type": "execute_result"
    }
   ],
   "source": [
    "norma"
   ]
  },
  {
   "cell_type": "code",
   "execution_count": 15,
   "metadata": {
    "colab": {
     "base_uri": "https://localhost:8080/"
    },
    "executionInfo": {
     "elapsed": 36,
     "status": "ok",
     "timestamp": 1748968425781,
     "user": {
      "displayName": "Natielli Torres",
      "userId": "07369505193852936460"
     },
     "user_tz": 180
    },
    "id": "QIOTN9cOEs-V",
    "outputId": "d79bb7af-7ba0-49e0-d824-bcdf35f72830"
   },
   "outputs": [
    {
     "data": {
      "text/plain": [
       "124.90062348267885"
      ]
     },
     "execution_count": 15,
     "metadata": {},
     "output_type": "execute_result"
    }
   ],
   "source": [
    "np.min(norma)"
   ]
  },
  {
   "cell_type": "markdown",
   "metadata": {
    "id": "y9wucQ9_FDe9"
   },
   "source": [
    "Algo que não foi passado no curso é que também podemos utilizar condições dentro dos colchetes dos arrays para encontrar um determinado valor. O código abaixo mostra o coeficiente angular que corresponde ao menor valor da norma. Repare que a condição é a: norma == np.min(norma)."
   ]
  },
  {
   "cell_type": "code",
   "execution_count": 16,
   "metadata": {
    "colab": {
     "base_uri": "https://localhost:8080/"
    },
    "executionInfo": {
     "elapsed": 7,
     "status": "ok",
     "timestamp": 1748968427293,
     "user": {
      "displayName": "Natielli Torres",
      "userId": "07369505193852936460"
     },
     "user_tz": 180
    },
    "id": "b2PIjDBfExLd",
    "outputId": "6a7d7f7f-f6b0-49b9-9ffb-e523b71588c3"
   },
   "outputs": [
    {
     "data": {
      "text/plain": [
       "array([16.06838693])"
      ]
     },
     "execution_count": 16,
     "metadata": {},
     "output_type": "execute_result"
    }
   ],
   "source": [
    "coef_angulares[norma == np.min(norma)]"
   ]
  }
 ],
 "metadata": {
  "colab": {
   "provenance": []
  },
  "kernelspec": {
   "display_name": "Python [conda env:base] *",
   "language": "python",
   "name": "conda-base-py"
  },
  "language_info": {
   "codemirror_mode": {
    "name": "ipython",
    "version": 3
   },
   "file_extension": ".py",
   "mimetype": "text/x-python",
   "name": "python",
   "nbconvert_exporter": "python",
   "pygments_lexer": "ipython3",
   "version": "3.12.7"
  }
 },
 "nbformat": 4,
 "nbformat_minor": 4
}
