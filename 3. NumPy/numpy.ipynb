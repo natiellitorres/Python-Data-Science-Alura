{
 "cells": [
  {
   "cell_type": "markdown",
   "metadata": {
    "id": "5c9ayjZJ7DNs"
   },
   "source": [
    "# NUMPY - ALURA"
   ]
  },
  {
   "cell_type": "markdown",
   "metadata": {
    "id": "CoV6x9Bv-Z7N"
   },
   "source": [
    "A NumPy é uma biblioteca em Python que oferece diversas ferramentas e funcionalidades essenciais para computação científica, incluindo objetos de matriz multidimensional chamados de arrays, rotinas para operações rápidas em matrizes, além de operações matemáticas, manipulação de forma, estatísticas e muito mais. É amplamente utilizado em áreas como análise de dados, processamento de sinais e aprendizado de máquina.\n",
    "\n",
    "Mais conteúdo sobre as suas funcionalidades pode ser acessado no link: https://numpy.org/devdocs/index.html"
   ]
  },
  {
   "cell_type": "markdown",
   "metadata": {
    "id": "DlIXhhP4kpXs"
   },
   "source": [
    "# Aula 1"
   ]
  },
  {
   "cell_type": "markdown",
   "metadata": {
    "id": "jf_9eE4NwKA4"
   },
   "source": [
    "## Vídeo 1.3 - Carregando dados"
   ]
  },
  {
   "cell_type": "markdown",
   "metadata": {
    "id": "OrzRD1HjklCD"
   },
   "source": [
    "A versão original da base de dados utilizada neste curso pode encontrada neste [link](https://www.kaggle.com/datasets/kapatsa/apple-prices-in-russian-regions) onde você pode ler um pouco mais sobre o problema e questões em potencial relacionadas a estes dados.\n",
    "\n",
    "\n",
    "Porém, neste curso será utilizada uma versão modificada disponível neste [link](https://github.com/alura-cursos/numpy/blob/dados/apples_ts.csv). O link para a versão Raw do arquivo repositório do Github é este: https://raw.githubusercontent.com/alura-cursos/numpy/dados/apples_ts.csv ."
   ]
  },
  {
   "cell_type": "code",
   "execution_count": 1,
   "metadata": {
    "executionInfo": {
     "elapsed": 63,
     "status": "ok",
     "timestamp": 1748962630283,
     "user": {
      "displayName": "Natielli Torres",
      "userId": "07369505193852936460"
     },
     "user_tz": 180
    },
    "id": "LvhSkBLokSwp"
   },
   "outputs": [],
   "source": [
    "import numpy as np"
   ]
  },
  {
   "cell_type": "code",
   "execution_count": 2,
   "metadata": {
    "executionInfo": {
     "elapsed": 18,
     "status": "ok",
     "timestamp": 1748962630304,
     "user": {
      "displayName": "Natielli Torres",
      "userId": "07369505193852936460"
     },
     "user_tz": 180
    },
    "id": "tkOiG4uvMoHQ"
   },
   "outputs": [],
   "source": [
    "url = 'dados/apples_ts.csv'"
   ]
  },
  {
   "cell_type": "code",
   "execution_count": 3,
   "metadata": {
    "colab": {
     "base_uri": "https://localhost:8080/"
    },
    "executionInfo": {
     "elapsed": 16,
     "status": "ok",
     "timestamp": 1748962630322,
     "user": {
      "displayName": "Natielli Torres",
      "userId": "07369505193852936460"
     },
     "user_tz": 180
    },
    "id": "woiZe2_Ql8eM",
    "outputId": "da0f17f9-93ea-48a8-986a-4ba89d172e7c"
   },
   "outputs": [
    {
     "data": {
      "text/plain": [
       "array([ 1,  2,  3,  4,  5,  6,  7,  8,  9, 10, 11, 12, 13, 14, 15, 16, 17,\n",
       "       18, 19, 20, 21, 22, 23, 24, 25, 26, 27, 28, 29, 30, 31, 32, 33, 34,\n",
       "       35, 36, 37, 38, 39, 40, 41, 42, 43, 44, 45, 46, 47, 48, 49, 50, 51,\n",
       "       52, 53, 54, 55, 56, 57, 58, 59, 60, 61, 62, 63, 64, 65, 66, 67, 68,\n",
       "       69, 70, 71, 72, 73, 74, 75, 76, 77, 78, 79, 80, 81, 82, 83, 84, 85,\n",
       "       86, 87])"
      ]
     },
     "execution_count": 3,
     "metadata": {},
     "output_type": "execute_result"
    }
   ],
   "source": [
    "np.arange(1,88,1)"
   ]
  },
  {
   "cell_type": "code",
   "execution_count": 4,
   "metadata": {
    "colab": {
     "base_uri": "https://localhost:8080/"
    },
    "executionInfo": {
     "elapsed": 17,
     "status": "ok",
     "timestamp": 1748962630329,
     "user": {
      "displayName": "Natielli Torres",
      "userId": "07369505193852936460"
     },
     "user_tz": 180
    },
    "id": "HFAQ7N1ltVZH",
    "outputId": "31cb023f-11fa-4e23-f9e5-8bbaec508398"
   },
   "outputs": [
    {
     "data": {
      "text/plain": [
       "87"
      ]
     },
     "execution_count": 4,
     "metadata": {},
     "output_type": "execute_result"
    }
   ],
   "source": [
    "7*12+3"
   ]
  },
  {
   "cell_type": "code",
   "execution_count": 5,
   "metadata": {
    "executionInfo": {
     "elapsed": 215,
     "status": "ok",
     "timestamp": 1748962630556,
     "user": {
      "displayName": "Natielli Torres",
      "userId": "07369505193852936460"
     },
     "user_tz": 180
    },
    "id": "31bbVYEZkcf8"
   },
   "outputs": [],
   "source": [
    "dado = np.loadtxt(url,delimiter=',',usecols=np.arange(1,88,1))"
   ]
  },
  {
   "cell_type": "markdown",
   "metadata": {
    "id": "m1ugXa_NwXIZ"
   },
   "source": [
    "## Vídeo 1.4 - Dimensões do array"
   ]
  },
  {
   "cell_type": "code",
   "execution_count": 6,
   "metadata": {
    "colab": {
     "base_uri": "https://localhost:8080/"
    },
    "executionInfo": {
     "elapsed": 28,
     "status": "ok",
     "timestamp": 1748962637054,
     "user": {
      "displayName": "Natielli Torres",
      "userId": "07369505193852936460"
     },
     "user_tz": 180
    },
    "id": "OacarG2Uy8Iq",
    "outputId": "3e14b665-a62e-46fb-9e4e-752520ce1902"
   },
   "outputs": [
    {
     "data": {
      "text/plain": [
       "2"
      ]
     },
     "execution_count": 6,
     "metadata": {},
     "output_type": "execute_result"
    }
   ],
   "source": [
    "dado.ndim"
   ]
  },
  {
   "cell_type": "code",
   "execution_count": 7,
   "metadata": {
    "colab": {
     "base_uri": "https://localhost:8080/"
    },
    "executionInfo": {
     "elapsed": 12,
     "status": "ok",
     "timestamp": 1748962637578,
     "user": {
      "displayName": "Natielli Torres",
      "userId": "07369505193852936460"
     },
     "user_tz": 180
    },
    "id": "rwPNvctqzA7Z",
    "outputId": "119c1efa-f264-4bf2-e6bf-229e6191618c"
   },
   "outputs": [
    {
     "data": {
      "text/plain": [
       "522"
      ]
     },
     "execution_count": 7,
     "metadata": {},
     "output_type": "execute_result"
    }
   ],
   "source": [
    "dado.size"
   ]
  },
  {
   "cell_type": "code",
   "execution_count": 8,
   "metadata": {
    "colab": {
     "base_uri": "https://localhost:8080/"
    },
    "executionInfo": {
     "elapsed": 38,
     "status": "ok",
     "timestamp": 1748962638090,
     "user": {
      "displayName": "Natielli Torres",
      "userId": "07369505193852936460"
     },
     "user_tz": 180
    },
    "id": "Eugn3BoPt9s2",
    "outputId": "8713ce16-3e4b-4ea8-acd5-fcafc0d174d4"
   },
   "outputs": [
    {
     "data": {
      "text/plain": [
       "(6, 87)"
      ]
     },
     "execution_count": 8,
     "metadata": {},
     "output_type": "execute_result"
    }
   ],
   "source": [
    "dado.shape"
   ]
  },
  {
   "cell_type": "markdown",
   "metadata": {
    "id": "bBCStF7k_wjy"
   },
   "source": [
    "### Transposição do array"
   ]
  },
  {
   "cell_type": "code",
   "execution_count": 9,
   "metadata": {
    "colab": {
     "base_uri": "https://localhost:8080/"
    },
    "executionInfo": {
     "elapsed": 22,
     "status": "ok",
     "timestamp": 1748962641360,
     "user": {
      "displayName": "Natielli Torres",
      "userId": "07369505193852936460"
     },
     "user_tz": 180
    },
    "id": "cZgJMqEswc8_",
    "outputId": "c1881abb-f25c-4f0b-caf9-903583f0c89e",
    "scrolled": true
   },
   "outputs": [
    {
     "data": {
      "text/plain": [
       "array([[  1.2013,  79.72  ,  42.67  ,  62.55  ,  48.26  ,  71.25  ],\n",
       "       [  2.2013,  81.08  ,  44.37  ,  62.73  ,  51.01  ,  71.35  ],\n",
       "       [  3.2013,  79.68  ,  44.73  ,  63.43  ,  50.91  ,  70.9   ],\n",
       "       [  4.2013,  79.8   ,  46.75  ,  63.83  ,  53.94  ,  71.92  ],\n",
       "       [  5.2013,  80.63  ,      nan,  66.06  ,  61.27  ,  72.91  ],\n",
       "       [  6.2013,  80.8   ,  51.59  ,  69.22  ,  65.44  ,  74.39  ],\n",
       "       [  7.2013,  80.28  ,  57.8   ,  72.07  ,  56.51  ,  73.1   ],\n",
       "       [  8.2013,  78.99  ,  62.14  ,  69.31  ,  53.    ,  70.24  ],\n",
       "       [  9.2013,  76.77  ,  56.76  ,  65.18  ,  43.87  ,  69.12  ],\n",
       "       [ 10.2013,  76.09  ,  50.85  ,  62.13  ,  42.12  ,  68.98  ],\n",
       "       [ 11.2013,  76.36  ,  46.43  ,  64.17  ,  43.98  ,  68.58  ],\n",
       "       [ 12.2013,  77.16  ,  46.73  ,  65.5   ,  44.66  ,  69.5   ],\n",
       "       [  1.2014,  77.5   ,  45.85  ,  66.85  ,  47.73  ,  70.14  ],\n",
       "       [  2.2014,  79.03  ,  49.25  ,  68.38  ,  52.31  ,  70.58  ],\n",
       "       [  3.2014,  80.28  ,  48.14  ,  68.77  ,  56.8   ,  70.78  ],\n",
       "       [  4.2014,  80.05  ,  49.18  ,  69.32  ,  51.15  ,  72.78  ],\n",
       "       [  5.2014,  78.11  ,  49.49  ,  69.77  ,  54.63  ,  72.84  ],\n",
       "       [  6.2014,  76.9   ,  49.83  ,  70.17  ,  55.8   ,  74.74  ],\n",
       "       [  7.2014,  77.68  ,  49.14  ,  70.76  ,  57.31  ,  76.43  ],\n",
       "       [  8.2014,  76.05  ,  63.21  ,  75.16  ,  53.81  ,  81.2   ],\n",
       "       [  9.2014,  75.53  ,  61.2   ,  74.86  ,  55.5   ,  82.04  ],\n",
       "       [ 10.2014,  73.39  ,  60.34  ,  71.47  ,  52.95  ,  79.67  ],\n",
       "       [ 11.2014,  78.36  ,  62.2   ,  76.08  ,  53.29  ,  81.25  ],\n",
       "       [ 12.2014,  89.16  ,  74.2   ,  82.11  ,  54.86  ,  85.88  ],\n",
       "       [  1.2015, 105.43  ,  75.32  ,  94.63  ,  71.72  ,  91.35  ],\n",
       "       [  2.2015, 104.82  ,  75.92  ,  98.54  ,  74.36  , 101.32  ],\n",
       "       [  3.2015, 101.15  ,  72.89  ,  97.84  ,  78.25  , 102.45  ],\n",
       "       [  4.2015,  98.63  ,  74.85  ,  94.54  ,  70.63  ,  98.18  ],\n",
       "       [  5.2015,  99.96  ,  92.19  ,  97.88  ,  77.06  , 105.1   ],\n",
       "       [  6.2015,  97.29  ,  99.7   ,  97.73  ,  81.52  , 104.85  ],\n",
       "       [  7.2015,  98.64  , 102.78  , 100.89  ,  84.12  , 111.48  ],\n",
       "       [  8.2015, 104.26  ,  92.67  , 104.88  ,  83.33  , 118.51  ],\n",
       "       [  9.2015, 102.63  ,  90.63  , 104.39  ,  66.98  , 118.92  ],\n",
       "       [ 10.2015,  98.64  ,  83.31  , 101.9   ,  62.04  , 109.87  ],\n",
       "       [ 11.2015,  97.17  ,  75.5   ,  98.99  ,  59.79  , 105.22  ],\n",
       "       [ 12.2015,  98.09  ,  74.6   ,  99.42  ,  66.06  , 105.45  ],\n",
       "       [  1.2016, 103.07  ,  76.94  , 106.37  ,  71.99  , 115.61  ],\n",
       "       [  2.2016, 110.26  ,  83.04  , 113.89  ,  76.79  , 116.61  ],\n",
       "       [  3.2016, 110.84  ,  80.74  , 114.78  ,  80.98  , 120.39  ],\n",
       "       [  4.2016, 112.28  ,  80.29  , 115.6   ,  89.18  , 119.2   ],\n",
       "       [  5.2016, 111.1   ,  82.82  , 115.89  ,  92.71  , 119.92  ],\n",
       "       [  6.2016, 110.06  ,  86.29  , 117.66  ,  94.85  , 120.57  ],\n",
       "       [  7.2016, 113.7   ,  87.41  , 118.27  ,  99.18  , 123.37  ],\n",
       "       [  8.2016, 112.88  ,  85.1   , 114.19  ,  86.33  , 121.39  ],\n",
       "       [  9.2016, 102.08  ,  78.08  , 101.81  ,  71.94  , 118.16  ],\n",
       "       [ 10.2016,  95.54  ,  76.06  ,  91.62  ,  67.18  , 108.84  ],\n",
       "       [ 11.2016,  91.33  ,  69.23  ,  90.15  ,  62.98  , 100.78  ],\n",
       "       [ 12.2016,  89.99  ,  69.04  ,  90.55  ,  69.45  ,  99.92  ],\n",
       "       [  1.2017,  91.44  ,  64.48  ,  92.3   ,  67.56  , 100.65  ],\n",
       "       [  2.2017,  93.51  ,  65.73  ,  91.75  ,  67.92  ,  98.92  ],\n",
       "       [  3.2017,  93.6   ,  67.2   ,  92.    ,  68.4   , 100.31  ],\n",
       "       [  4.2017,  93.78  ,  70.25  ,  92.57  ,  67.97  ,  96.41  ],\n",
       "       [  5.2017,  98.91  ,  82.59  , 100.28  ,  76.33  , 101.24  ],\n",
       "       [  6.2017, 121.76  ,  92.12  , 114.33  ,  95.79  , 118.7   ],\n",
       "       [  7.2017, 129.6   , 100.82  , 122.17  , 112.36  , 133.29  ],\n",
       "       [  8.2017, 127.9   ,  95.23  , 117.83  ,  82.03  , 130.31  ],\n",
       "       [  9.2017, 114.55  ,  89.51  , 112.49  ,  73.83  , 122.4   ],\n",
       "       [ 10.2017, 101.88  ,  82.84  ,  93.7   ,  66.12  , 104.98  ],\n",
       "       [ 11.2017,  99.09  ,  82.3   ,  97.17  ,  63.24  , 107.54  ],\n",
       "       [ 12.2017, 103.35  ,  83.76  ,  95.64  ,  63.98  , 110.74  ],\n",
       "       [  1.2018, 106.58  ,  84.72  , 102.21  ,  69.1   , 110.51  ],\n",
       "       [  2.2018, 108.    ,  83.91  , 107.58  ,  70.04  , 111.46  ],\n",
       "       [  3.2018, 114.95  ,  99.14  , 110.48  ,  80.03  , 113.42  ],\n",
       "       [  4.2018, 121.17  , 101.6   , 117.73  ,  87.92  , 118.15  ],\n",
       "       [  5.2018, 122.48  , 113.03  , 122.07  ,  97.07  , 114.    ],\n",
       "       [  6.2018, 127.58  , 119.54  , 128.58  , 106.52  , 124.91  ],\n",
       "       [  7.2018, 131.89  , 118.09  , 131.12  , 108.93  , 126.06  ],\n",
       "       [  8.2018, 129.36  , 107.32  , 127.08  ,  95.17  , 123.3   ],\n",
       "       [  9.2018, 104.26  ,  82.6   , 110.99  ,  74.31  , 111.61  ],\n",
       "       [ 10.2018,  93.45  ,  77.4   ,  97.43  ,  62.63  ,  98.82  ],\n",
       "       [ 11.2018,  92.93  ,  71.77  ,  92.05  ,  69.92  ,  97.47  ],\n",
       "       [ 12.2018,  96.15  ,  71.25  ,  93.21  ,  70.58  , 103.01  ],\n",
       "       [  1.2019,  99.1   ,  71.35  ,  98.58  ,  74.63  , 109.36  ],\n",
       "       [  2.2019, 103.    ,  73.62  , 100.23  ,  78.69  , 104.79  ],\n",
       "       [  3.2019, 103.31  ,  76.2   , 102.09  ,  81.82  , 105.09  ],\n",
       "       [  4.2019, 103.01  ,  74.15  , 101.73  ,  82.36  , 103.16  ],\n",
       "       [  5.2019, 107.37  ,  75.67  , 107.28  ,  89.44  , 106.52  ],\n",
       "       [  6.2019, 116.91  ,  79.2   , 115.35  , 102.01  , 121.68  ],\n",
       "       [  7.2019, 125.29  ,  80.85  , 123.03  , 116.12  , 125.32  ],\n",
       "       [  8.2019, 123.94  ,  85.33  , 123.08  ,  92.06  , 123.41  ],\n",
       "       [  9.2019, 113.03  ,  75.02  , 109.71  ,  82.7   , 108.48  ],\n",
       "       [ 10.2019, 102.19  ,  77.95  ,  97.22  ,  66.62  ,  98.73  ],\n",
       "       [ 11.2019,  97.83  ,  78.98  ,  95.75  ,  68.11  ,  96.25  ],\n",
       "       [ 12.2019, 101.07  ,  76.55  ,  97.09  ,  73.48  , 100.12  ],\n",
       "       [  1.202 , 103.44  ,  74.89  ,  98.18  ,  82.04  , 101.29  ],\n",
       "       [  2.202 , 108.23  ,  70.    , 103.1   ,  81.19  , 102.81  ],\n",
       "       [  3.202 , 110.28  ,  81.53  , 110.6   ,  95.05  , 108.53  ]])"
      ]
     },
     "execution_count": 9,
     "metadata": {},
     "output_type": "execute_result"
    }
   ],
   "source": [
    "dado.T"
   ]
  },
  {
   "cell_type": "code",
   "execution_count": 10,
   "metadata": {
    "colab": {
     "base_uri": "https://localhost:8080/"
    },
    "executionInfo": {
     "elapsed": 21,
     "status": "ok",
     "timestamp": 1748962643919,
     "user": {
      "displayName": "Natielli Torres",
      "userId": "07369505193852936460"
     },
     "user_tz": 180
    },
    "id": "rYf7idhVwfXo",
    "outputId": "59be0dc9-159d-4bb6-c587-a004f9f92092"
   },
   "outputs": [
    {
     "data": {
      "text/plain": [
       "(87, 6)"
      ]
     },
     "execution_count": 10,
     "metadata": {},
     "output_type": "execute_result"
    }
   ],
   "source": [
    "dado.T.shape"
   ]
  },
  {
   "cell_type": "code",
   "execution_count": 11,
   "metadata": {
    "executionInfo": {
     "elapsed": 4,
     "status": "ok",
     "timestamp": 1748962650836,
     "user": {
      "displayName": "Natielli Torres",
      "userId": "07369505193852936460"
     },
     "user_tz": 180
    },
    "id": "VCfUT2fHxTwv"
   },
   "outputs": [],
   "source": [
    "dado_transposto = dado.T"
   ]
  },
  {
   "cell_type": "markdown",
   "metadata": {
    "id": "xLPnu4EZ0_Mj"
   },
   "source": [
    "# Aula 2"
   ]
  },
  {
   "cell_type": "markdown",
   "metadata": {
    "id": "4s5QCa1s1CcS"
   },
   "source": [
    "## Vídeo 2.1 - Visualização e seleção"
   ]
  },
  {
   "cell_type": "markdown",
   "metadata": {
    "id": "PuzE7IHSDhAy"
   },
   "source": [
    "### *A[ i : j ]*\n",
    "\n",
    "Recorta a lista *A* do índice i até o j. Neste fatiamento o elemento com índice i é **incluído** e o elemento com índice j **não é incluído** no resultado."
   ]
  },
  {
   "cell_type": "code",
   "execution_count": 12,
   "metadata": {
    "executionInfo": {
     "elapsed": 42,
     "status": "ok",
     "timestamp": 1748962931210,
     "user": {
      "displayName": "Natielli Torres",
      "userId": "07369505193852936460"
     },
     "user_tz": 180
    },
    "id": "AnFj2Bcu1BaI"
   },
   "outputs": [],
   "source": [
    "datas = dado_transposto[:,0]"
   ]
  },
  {
   "cell_type": "code",
   "execution_count": 13,
   "metadata": {
    "executionInfo": {
     "elapsed": 19,
     "status": "ok",
     "timestamp": 1748962932472,
     "user": {
      "displayName": "Natielli Torres",
      "userId": "07369505193852936460"
     },
     "user_tz": 180
    },
    "id": "cALi6D5V3rNi"
   },
   "outputs": [],
   "source": [
    "precos = dado_transposto[:,1:6]"
   ]
  },
  {
   "cell_type": "markdown",
   "metadata": {
    "id": "MoT44x0P_3x7"
   },
   "source": [
    "Matplotlib é uma biblioteca em Python que oferece diversas ferramentas e funcionalidades para a criação de visualizações em gráficos. Ela permite criar gráficos estáticos, animados e interativos de forma simples e oferece recursos avançados para a criação de gráficos mais complexos. É amplamente utilizada em áreas como análise de dados, processamento de sinais e aprendizado de máquina. Neste curso iremos utilizar apenas a plt.plot, mas se você quiser se aprofundar no assunto pode consultar a documentação na biblioteca neste link: https://matplotlib.org/"
   ]
  },
  {
   "cell_type": "code",
   "execution_count": 14,
   "metadata": {
    "executionInfo": {
     "elapsed": 10,
     "status": "ok",
     "timestamp": 1748962936773,
     "user": {
      "displayName": "Natielli Torres",
      "userId": "07369505193852936460"
     },
     "user_tz": 180
    },
    "id": "aUiOwcVa46Ey"
   },
   "outputs": [],
   "source": [
    "import matplotlib.pyplot as plt"
   ]
  },
  {
   "cell_type": "code",
   "execution_count": 15,
   "metadata": {
    "colab": {
     "base_uri": "https://localhost:8080/",
     "height": 447
    },
    "executionInfo": {
     "elapsed": 556,
     "status": "ok",
     "timestamp": 1748962938157,
     "user": {
      "displayName": "Natielli Torres",
      "userId": "07369505193852936460"
     },
     "user_tz": 180
    },
    "id": "KY_BbT_V5VIR",
    "outputId": "3a05d296-a294-4124-8b14-8d7e8540f0f3"
   },
   "outputs": [
    {
     "data": {
      "text/plain": [
       "[<matplotlib.lines.Line2D at 0x130d71fdaf0>]"
      ]
     },
     "execution_count": 15,
     "metadata": {},
     "output_type": "execute_result"
    },
    {
     "data": {
      "image/png": "[encoded data removed]",
      "text/plain": [
       "<Figure size 640x480 with 1 Axes>"
      ]
     },
     "metadata": {},
     "output_type": "display_data"
    }
   ],
   "source": [
    "plt.plot(datas, precos[:,0])"
   ]
  },
  {
   "cell_type": "code",
   "execution_count": 16,
   "metadata": {
    "executionInfo": {
     "elapsed": 87,
     "status": "ok",
     "timestamp": 1748963080612,
     "user": {
      "displayName": "Natielli Torres",
      "userId": "07369505193852936460"
     },
     "user_tz": 180
    },
    "id": "cl6Jc6FO5ZzK"
   },
   "outputs": [],
   "source": [
    "datas = np.arange(1,88,1)"
   ]
  },
  {
   "cell_type": "code",
   "execution_count": 17,
   "metadata": {
    "colab": {
     "base_uri": "https://localhost:8080/",
     "height": 447
    },
    "executionInfo": {
     "elapsed": 186,
     "status": "ok",
     "timestamp": 1748963082370,
     "user": {
      "displayName": "Natielli Torres",
      "userId": "07369505193852936460"
     },
     "user_tz": 180
    },
    "id": "lMJCzD-v56DS",
    "outputId": "a5ebba07-060b-4300-94de-7cfe6e98eacc"
   },
   "outputs": [
    {
     "data": {
      "text/plain": [
       "[<matplotlib.lines.Line2D at 0x130d7358410>]"
      ]
     },
     "execution_count": 17,
     "metadata": {},
     "output_type": "execute_result"
    },
    {
     "data": {
      "image/png": "[encoded data removed]",
      "text/plain": [
       "<Figure size 640x480 with 1 Axes>"
      ]
     },
     "metadata": {},
     "output_type": "display_data"
    }
   ],
   "source": [
    "plt.plot(datas, precos[:,0])"
   ]
  },
  {
   "cell_type": "code",
   "execution_count": 18,
   "metadata": {
    "executionInfo": {
     "elapsed": 3,
     "status": "ok",
     "timestamp": 1748963088013,
     "user": {
      "displayName": "Natielli Torres",
      "userId": "07369505193852936460"
     },
     "user_tz": 180
    },
    "id": "DpxvyAuy56tx"
   },
   "outputs": [],
   "source": [
    "Moscow = precos[:,0]\n",
    "Kaliningrad = precos[:,1]\n",
    "Petersburg = precos[:,2]\n",
    "Krasnodar = precos[:,3]\n",
    "Ekaterinburg = precos[:,4]"
   ]
  },
  {
   "cell_type": "markdown",
   "metadata": {
    "id": "DN6NWVzA7MPF"
   },
   "source": [
    "## Vídeo 2.2 - Comparação entre arrays"
   ]
  },
  {
   "cell_type": "code",
   "execution_count": 19,
   "metadata": {
    "colab": {
     "base_uri": "https://localhost:8080/"
    },
    "executionInfo": {
     "elapsed": 74,
     "status": "ok",
     "timestamp": 1748963664398,
     "user": {
      "displayName": "Natielli Torres",
      "userId": "07369505193852936460"
     },
     "user_tz": 180
    },
    "id": "1CUF-sWA9a4V",
    "outputId": "043671bb-9656-4771-e299-a26267492636"
   },
   "outputs": [
    {
     "data": {
      "text/plain": [
       "(87,)"
      ]
     },
     "execution_count": 19,
     "metadata": {},
     "output_type": "execute_result"
    }
   ],
   "source": [
    "Moscow.shape"
   ]
  },
  {
   "cell_type": "code",
   "execution_count": 20,
   "metadata": {
    "executionInfo": {
     "elapsed": 2,
     "status": "ok",
     "timestamp": 1748963665556,
     "user": {
      "displayName": "Natielli Torres",
      "userId": "07369505193852936460"
     },
     "user_tz": 180
    },
    "id": "9SPo1sSt7JQ7"
   },
   "outputs": [],
   "source": [
    "Moscow_ano1 = Moscow[0:12]\n",
    "Moscow_ano2 = Moscow[12:24]\n",
    "Moscow_ano3 = Moscow[24:36]\n",
    "Moscow_ano4 = Moscow[36:48]"
   ]
  },
  {
   "cell_type": "code",
   "execution_count": 21,
   "metadata": {
    "colab": {
     "base_uri": "https://localhost:8080/",
     "height": 447
    },
    "executionInfo": {
     "elapsed": 305,
     "status": "ok",
     "timestamp": 1748963669737,
     "user": {
      "displayName": "Natielli Torres",
      "userId": "07369505193852936460"
     },
     "user_tz": 180
    },
    "id": "4MzsuSCO9K27",
    "outputId": "8439a6a2-d234-4674-9bbe-b37355197151"
   },
   "outputs": [
    {
     "data": {
      "text/plain": [
       "<matplotlib.legend.Legend at 0x130d7405a30>"
      ]
     },
     "execution_count": 21,
     "metadata": {},
     "output_type": "execute_result"
    },
    {
     "data": {
      "image/png": "[encoded data removed]",
      "text/plain": [
       "<Figure size 640x480 with 1 Axes>"
      ]
     },
     "metadata": {},
     "output_type": "display_data"
    }
   ],
   "source": [
    "plt.plot(np.arange(1,13,1), Moscow_ano1)\n",
    "plt.plot(np.arange(1,13,1), Moscow_ano2)\n",
    "plt.plot(np.arange(1,13,1), Moscow_ano3)\n",
    "plt.plot(np.arange(1,13,1), Moscow_ano4)\n",
    "plt.legend(['ano1','ano2','ano3','ano4'])"
   ]
  },
  {
   "cell_type": "code",
   "execution_count": 22,
   "metadata": {
    "colab": {
     "base_uri": "https://localhost:8080/"
    },
    "executionInfo": {
     "elapsed": 72,
     "status": "ok",
     "timestamp": 1748963940091,
     "user": {
      "displayName": "Natielli Torres",
      "userId": "07369505193852936460"
     },
     "user_tz": 180
    },
    "id": "rgCn9Z2ZJ5EK",
    "outputId": "ed01457f-4e3b-45b8-f2be-bc68006929e3"
   },
   "outputs": [
    {
     "data": {
      "text/plain": [
       "False"
      ]
     },
     "execution_count": 22,
     "metadata": {},
     "output_type": "execute_result"
    }
   ],
   "source": [
    "np.array_equal(Moscow_ano3, Moscow_ano4)"
   ]
  },
  {
   "cell_type": "code",
   "execution_count": 23,
   "metadata": {
    "colab": {
     "base_uri": "https://localhost:8080/"
    },
    "executionInfo": {
     "elapsed": 9,
     "status": "ok",
     "timestamp": 1748963940447,
     "user": {
      "displayName": "Natielli Torres",
      "userId": "07369505193852936460"
     },
     "user_tz": 180
    },
    "id": "9tlC6wQNKPQb",
    "outputId": "1cccabdf-e74e-48c3-82fc-0e21aa7afd12"
   },
   "outputs": [
    {
     "data": {
      "text/plain": [
       "True"
      ]
     },
     "execution_count": 23,
     "metadata": {},
     "output_type": "execute_result"
    }
   ],
   "source": [
    "np.allclose(Moscow_ano3, Moscow_ano4,10)\n"
   ]
  },
  {
   "cell_type": "markdown",
   "metadata": {
    "id": "UT8CWkPiJv-q"
   },
   "source": [
    "## Vídeo 2.3 - Lidando com NaNs"
   ]
  },
  {
   "cell_type": "code",
   "execution_count": 24,
   "metadata": {
    "colab": {
     "base_uri": "https://localhost:8080/",
     "height": 447
    },
    "executionInfo": {
     "elapsed": 203,
     "status": "ok",
     "timestamp": 1748964344999,
     "user": {
      "displayName": "Natielli Torres",
      "userId": "07369505193852936460"
     },
     "user_tz": 180
    },
    "id": "Zoaxx_LtNJNq",
    "outputId": "242d9ff4-4389-4d16-e566-28cd45d4bc4d"
   },
   "outputs": [
    {
     "data": {
      "text/plain": [
       "[<matplotlib.lines.Line2D at 0x130d7dfacc0>]"
      ]
     },
     "execution_count": 24,
     "metadata": {},
     "output_type": "execute_result"
    },
    {
     "data": {
      "image/png": "[encoded data removed]",
      "text/plain": [
       "<Figure size 640x480 with 1 Axes>"
      ]
     },
     "metadata": {},
     "output_type": "display_data"
    }
   ],
   "source": [
    "plt.plot(datas, Kaliningrad)"
   ]
  },
  {
   "cell_type": "code",
   "execution_count": 25,
   "metadata": {
    "colab": {
     "base_uri": "https://localhost:8080/"
    },
    "executionInfo": {
     "elapsed": 41,
     "status": "ok",
     "timestamp": 1748964308503,
     "user": {
      "displayName": "Natielli Torres",
      "userId": "07369505193852936460"
     },
     "user_tz": 180
    },
    "id": "GMkXuuR1G8zD",
    "outputId": "2be715e6-7102-4362-cebc-c2708bb60622"
   },
   "outputs": [
    {
     "data": {
      "text/plain": [
       "array([False, False, False, False,  True, False, False, False, False,\n",
       "       False, False, False, False, False, False, False, False, False,\n",
       "       False, False, False, False, False, False, False, False, False,\n",
       "       False, False, False, False, False, False, False, False, False,\n",
       "       False, False, False, False, False, False, False, False, False,\n",
       "       False, False, False, False, False, False, False, False, False,\n",
       "       False, False, False, False, False, False, False, False, False,\n",
       "       False, False, False, False, False, False, False, False, False,\n",
       "       False, False, False, False, False, False, False, False, False,\n",
       "       False, False, False, False, False, False])"
      ]
     },
     "execution_count": 25,
     "metadata": {},
     "output_type": "execute_result"
    }
   ],
   "source": [
    "np.isnan(Kaliningrad)"
   ]
  },
  {
   "cell_type": "code",
   "execution_count": 26,
   "metadata": {
    "colab": {
     "base_uri": "https://localhost:8080/"
    },
    "executionInfo": {
     "elapsed": 23,
     "status": "ok",
     "timestamp": 1748964308897,
     "user": {
      "displayName": "Natielli Torres",
      "userId": "07369505193852936460"
     },
     "user_tz": 180
    },
    "id": "oWSOuDg3lOIF",
    "outputId": "6c0c62a9-3359-42da-e5c9-57bda9e6be79"
   },
   "outputs": [
    {
     "data": {
      "text/plain": [
       "array([ 42.67,  44.37,  44.73,  46.75,    nan,  51.59,  57.8 ,  62.14,\n",
       "        56.76,  50.85,  46.43,  46.73,  45.85,  49.25,  48.14,  49.18,\n",
       "        49.49,  49.83,  49.14,  63.21,  61.2 ,  60.34,  62.2 ,  74.2 ,\n",
       "        75.32,  75.92,  72.89,  74.85,  92.19,  99.7 , 102.78,  92.67,\n",
       "        90.63,  83.31,  75.5 ,  74.6 ,  76.94,  83.04,  80.74,  80.29,\n",
       "        82.82,  86.29,  87.41,  85.1 ,  78.08,  76.06,  69.23,  69.04,\n",
       "        64.48,  65.73,  67.2 ,  70.25,  82.59,  92.12, 100.82,  95.23,\n",
       "        89.51,  82.84,  82.3 ,  83.76,  84.72,  83.91,  99.14, 101.6 ,\n",
       "       113.03, 119.54, 118.09, 107.32,  82.6 ,  77.4 ,  71.77,  71.25,\n",
       "        71.35,  73.62,  76.2 ,  74.15,  75.67,  79.2 ,  80.85,  85.33,\n",
       "        75.02,  77.95,  78.98,  76.55,  74.89,  70.  ,  81.53])"
      ]
     },
     "execution_count": 26,
     "metadata": {},
     "output_type": "execute_result"
    }
   ],
   "source": [
    "Kaliningrad"
   ]
  },
  {
   "cell_type": "code",
   "execution_count": 27,
   "metadata": {
    "colab": {
     "base_uri": "https://localhost:8080/"
    },
    "executionInfo": {
     "elapsed": 17,
     "status": "ok",
     "timestamp": 1748964310092,
     "user": {
      "displayName": "Natielli Torres",
      "userId": "07369505193852936460"
     },
     "user_tz": 180
    },
    "id": "RnX79GWolOfF",
    "outputId": "bc0ae88b-1958-4cff-c3fe-4458e7e36e76"
   },
   "outputs": [
    {
     "data": {
      "text/plain": [
       "1"
      ]
     },
     "execution_count": 27,
     "metadata": {},
     "output_type": "execute_result"
    }
   ],
   "source": [
    "sum(np.isnan(Kaliningrad))"
   ]
  },
  {
   "cell_type": "code",
   "execution_count": 28,
   "metadata": {
    "colab": {
     "base_uri": "https://localhost:8080/"
    },
    "executionInfo": {
     "elapsed": 5,
     "status": "ok",
     "timestamp": 1748964312782,
     "user": {
      "displayName": "Natielli Torres",
      "userId": "07369505193852936460"
     },
     "user_tz": 180
    },
    "id": "jRIR4zp4lvBs",
    "outputId": "e8afd41d-b620-447a-c2a3-4d6f3bd352d5"
   },
   "outputs": [
    {
     "data": {
      "text/plain": [
       "49.17"
      ]
     },
     "execution_count": 28,
     "metadata": {},
     "output_type": "execute_result"
    }
   ],
   "source": [
    "(Kaliningrad[3] + Kaliningrad[5])/2"
   ]
  },
  {
   "cell_type": "code",
   "execution_count": 29,
   "metadata": {
    "colab": {
     "base_uri": "https://localhost:8080/"
    },
    "executionInfo": {
     "elapsed": 20,
     "status": "ok",
     "timestamp": 1748964313780,
     "user": {
      "displayName": "Natielli Torres",
      "userId": "07369505193852936460"
     },
     "user_tz": 180
    },
    "id": "04y4gfXXl-Sz",
    "outputId": "5a0f5b8d-64aa-4143-9483-0f3351b63d55"
   },
   "outputs": [
    {
     "data": {
      "text/plain": [
       "49.17"
      ]
     },
     "execution_count": 29,
     "metadata": {},
     "output_type": "execute_result"
    }
   ],
   "source": [
    "np.mean([Kaliningrad[3], Kaliningrad[5]])"
   ]
  },
  {
   "cell_type": "code",
   "execution_count": 30,
   "metadata": {
    "executionInfo": {
     "elapsed": 3,
     "status": "ok",
     "timestamp": 1748964315306,
     "user": {
      "displayName": "Natielli Torres",
      "userId": "07369505193852936460"
     },
     "user_tz": 180
    },
    "id": "T24yIH3EnHpl"
   },
   "outputs": [],
   "source": [
    "Kaliningrad[4] = np.mean([Kaliningrad[3], Kaliningrad[5]])"
   ]
  },
  {
   "cell_type": "code",
   "execution_count": 31,
   "metadata": {
    "colab": {
     "base_uri": "https://localhost:8080/"
    },
    "executionInfo": {
     "elapsed": 7,
     "status": "ok",
     "timestamp": 1748964318210,
     "user": {
      "displayName": "Natielli Torres",
      "userId": "07369505193852936460"
     },
     "user_tz": 180
    },
    "id": "U7GYFmQKnBNT",
    "outputId": "485cd1a3-a7a2-4079-8bfd-70106fc290b6"
   },
   "outputs": [
    {
     "data": {
      "text/plain": [
       "98.79781609195402"
      ]
     },
     "execution_count": 31,
     "metadata": {},
     "output_type": "execute_result"
    }
   ],
   "source": [
    "np.mean(Moscow)"
   ]
  },
  {
   "cell_type": "code",
   "execution_count": 32,
   "metadata": {
    "colab": {
     "base_uri": "https://localhost:8080/"
    },
    "executionInfo": {
     "elapsed": 16,
     "status": "ok",
     "timestamp": 1748964319896,
     "user": {
      "displayName": "Natielli Torres",
      "userId": "07369505193852936460"
     },
     "user_tz": 180
    },
    "id": "1lrB_4X-oKd6",
    "outputId": "9c71b376-2150-4593-deaf-446112aa652e"
   },
   "outputs": [
    {
     "data": {
      "text/plain": [
       "74.5506896551724"
      ]
     },
     "execution_count": 32,
     "metadata": {},
     "output_type": "execute_result"
    }
   ],
   "source": [
    "np.mean(Kaliningrad)"
   ]
  },
  {
   "cell_type": "markdown",
   "metadata": {
    "id": "CgIQlbbupJ_b"
   },
   "source": [
    "# Aula 3 - Operações entre arrays"
   ]
  },
  {
   "cell_type": "markdown",
   "metadata": {
    "id": "fhwnOCMIpLyb"
   },
   "source": [
    "## Vídeo 3.1 - Diferença entre arrays"
   ]
  },
  {
   "cell_type": "code",
   "execution_count": 33,
   "metadata": {
    "colab": {
     "base_uri": "https://localhost:8080/",
     "height": 447
    },
    "executionInfo": {
     "elapsed": 199,
     "status": "ok",
     "timestamp": 1748964373677,
     "user": {
      "displayName": "Natielli Torres",
      "userId": "07369505193852936460"
     },
     "user_tz": 180
    },
    "id": "QlCwSaJ0oMTK",
    "outputId": "c8de6eb9-c88f-43c4-d4e2-813a2ed6478c"
   },
   "outputs": [
    {
     "data": {
      "text/plain": [
       "[<matplotlib.lines.Line2D at 0x130d7de10a0>]"
      ]
     },
     "execution_count": 33,
     "metadata": {},
     "output_type": "execute_result"
    },
    {
     "data": {
      "image/png": "[encoded data removed]",
      "text/plain": [
       "<Figure size 640x480 with 1 Axes>"
      ]
     },
     "metadata": {},
     "output_type": "display_data"
    }
   ],
   "source": [
    "plt.plot(datas, Moscow)"
   ]
  },
  {
   "cell_type": "markdown",
   "metadata": {
    "id": "EsXev426rZ5z"
   },
   "source": [
    "y = ax+b"
   ]
  },
  {
   "cell_type": "code",
   "execution_count": 34,
   "metadata": {
    "executionInfo": {
     "elapsed": 4,
     "status": "ok",
     "timestamp": 1748964377419,
     "user": {
      "displayName": "Natielli Torres",
      "userId": "07369505193852936460"
     },
     "user_tz": 180
    },
    "id": "yfVqjK-_rdrC"
   },
   "outputs": [],
   "source": [
    "x= datas"
   ]
  },
  {
   "cell_type": "code",
   "execution_count": 35,
   "metadata": {
    "executionInfo": {
     "elapsed": 4,
     "status": "ok",
     "timestamp": 1748964378541,
     "user": {
      "displayName": "Natielli Torres",
      "userId": "07369505193852936460"
     },
     "user_tz": 180
    },
    "id": "iEjHuSEWp9iy"
   },
   "outputs": [],
   "source": [
    "y = 2*x+80"
   ]
  },
  {
   "cell_type": "code",
   "execution_count": 36,
   "metadata": {
    "colab": {
     "base_uri": "https://localhost:8080/",
     "height": 447
    },
    "executionInfo": {
     "elapsed": 214,
     "status": "ok",
     "timestamp": 1748964380870,
     "user": {
      "displayName": "Natielli Torres",
      "userId": "07369505193852936460"
     },
     "user_tz": 180
    },
    "id": "NqLlOYPdrnvg",
    "outputId": "8abaf709-1ac3-4fb5-ecef-2c6628281323"
   },
   "outputs": [
    {
     "data": {
      "text/plain": [
       "[<matplotlib.lines.Line2D at 0x130d7f343b0>]"
      ]
     },
     "execution_count": 36,
     "metadata": {},
     "output_type": "execute_result"
    },
    {
     "data": {
      "image/png": "[encoded data removed]",
      "text/plain": [
       "<Figure size 640x480 with 1 Axes>"
      ]
     },
     "metadata": {},
     "output_type": "display_data"
    }
   ],
   "source": [
    "plt.plot(datas, Moscow)\n",
    "plt.plot(datas, y)"
   ]
  },
  {
   "cell_type": "code",
   "execution_count": 37,
   "metadata": {
    "colab": {
     "base_uri": "https://localhost:8080/"
    },
    "executionInfo": {
     "elapsed": 52,
     "status": "ok",
     "timestamp": 1748965780884,
     "user": {
      "displayName": "Natielli Torres",
      "userId": "07369505193852936460"
     },
     "user_tz": 180
    },
    "id": "XUi-LE2nwupR",
    "outputId": "ca76edef-9368-4ca1-fb52-bf7a4b9836e9"
   },
   "outputs": [
    {
     "data": {
      "text/plain": [
       "749.2329171225728"
      ]
     },
     "execution_count": 37,
     "metadata": {},
     "output_type": "execute_result"
    }
   ],
   "source": [
    "np.sqrt(np.sum(np.power(Moscow - y,2)))"
   ]
  },
  {
   "cell_type": "code",
   "execution_count": 38,
   "metadata": {
    "colab": {
     "base_uri": "https://localhost:8080/",
     "height": 447
    },
    "executionInfo": {
     "elapsed": 219,
     "status": "ok",
     "timestamp": 1748965782165,
     "user": {
      "displayName": "Natielli Torres",
      "userId": "07369505193852936460"
     },
     "user_tz": 180
    },
    "id": "aPipkZrHrrap",
    "outputId": "d1ec8555-94a7-4628-ce49-24e5bbc0811d"
   },
   "outputs": [
    {
     "data": {
      "text/plain": [
       "[<matplotlib.lines.Line2D at 0x130d8f55ca0>]"
      ]
     },
     "execution_count": 38,
     "metadata": {},
     "output_type": "execute_result"
    },
    {
     "data": {
      "image/png": "[encoded data removed]",
      "text/plain": [
       "<Figure size 640x480 with 1 Axes>"
      ]
     },
     "metadata": {},
     "output_type": "display_data"
    }
   ],
   "source": [
    "y = 0.52*x+80\n",
    "plt.plot(datas, Moscow)\n",
    "plt.plot(datas, y)"
   ]
  },
  {
   "cell_type": "code",
   "execution_count": 39,
   "metadata": {
    "colab": {
     "base_uri": "https://localhost:8080/"
    },
    "executionInfo": {
     "elapsed": 39,
     "status": "ok",
     "timestamp": 1748965783240,
     "user": {
      "displayName": "Natielli Torres",
      "userId": "07369505193852936460"
     },
     "user_tz": 180
    },
    "id": "60pH4emYssxJ",
    "outputId": "cce742e0-f0ea-409c-9be3-d314782b2cbb"
   },
   "outputs": [
    {
     "data": {
      "text/plain": [
       "array([ -0.8 ,   0.04,  -1.88,  -2.28,  -1.97,  -2.32,  -3.36,  -5.17,\n",
       "        -7.91,  -9.11,  -9.36,  -9.08,  -9.26,  -8.25,  -7.52,  -8.27,\n",
       "       -10.73, -12.46, -12.2 , -14.35, -15.39, -18.05, -13.6 ,  -3.32,\n",
       "        12.43,  11.3 ,   7.11,   4.07,   4.88,   1.69,   2.52,   7.62,\n",
       "         5.47,   0.96,  -1.03,  -0.63,   3.83,  10.5 ,  10.56,  11.48,\n",
       "         9.78,   8.22,  11.34,  10.  ,  -1.32,  -8.38, -13.11, -14.97,\n",
       "       -14.04, -12.49, -12.92, -13.26,  -8.65,  13.68,  21.  ,  18.78,\n",
       "         4.91,  -8.28, -11.59,  -7.85,  -5.14,  -4.24,   2.19,   7.89,\n",
       "         8.68,  13.26,  17.05,  14.  , -11.62, -22.95, -23.99, -21.29,\n",
       "       -18.86, -15.48, -15.69, -16.51, -12.67,  -3.65,   4.21,   2.34,\n",
       "        -9.09, -20.45, -25.33, -22.61, -20.76, -16.49, -14.96])"
      ]
     },
     "execution_count": 39,
     "metadata": {},
     "output_type": "execute_result"
    }
   ],
   "source": [
    "Moscow - y"
   ]
  },
  {
   "cell_type": "code",
   "execution_count": 40,
   "metadata": {
    "colab": {
     "base_uri": "https://localhost:8080/"
    },
    "executionInfo": {
     "elapsed": 10,
     "status": "ok",
     "timestamp": 1748965784056,
     "user": {
      "displayName": "Natielli Torres",
      "userId": "07369505193852936460"
     },
     "user_tz": 180
    },
    "id": "5y3Tp2GdvE2-",
    "outputId": "7dd1d4c2-db7c-460d-a606-c610fd9324e6"
   },
   "outputs": [
    {
     "data": {
      "text/plain": [
       "110.48504740461489"
      ]
     },
     "execution_count": 40,
     "metadata": {},
     "output_type": "execute_result"
    }
   ],
   "source": [
    "np.sqrt(np.sum(np.power(Moscow - y,2)))"
   ]
  },
  {
   "cell_type": "code",
   "execution_count": 41,
   "metadata": {
    "colab": {
     "base_uri": "https://localhost:8080/"
    },
    "executionInfo": {
     "elapsed": 7,
     "status": "ok",
     "timestamp": 1748965785421,
     "user": {
      "displayName": "Natielli Torres",
      "userId": "07369505193852936460"
     },
     "user_tz": 180
    },
    "id": "09bXuFUvwjCm",
    "outputId": "3c1c5473-8751-4e0f-ab74-b94cae1dd57a"
   },
   "outputs": [
    {
     "data": {
      "text/plain": [
       "110.48504740461489"
      ]
     },
     "execution_count": 41,
     "metadata": {},
     "output_type": "execute_result"
    }
   ],
   "source": [
    "np.linalg.norm(Moscow - y)"
   ]
  },
  {
   "cell_type": "markdown",
   "metadata": {
    "id": "HJrDwycxyfDx"
   },
   "source": [
    "## Vídeo 3.2 - Multiplicação elemento a elemento"
   ]
  },
  {
   "cell_type": "markdown",
   "metadata": {
    "id": "_23zaZD6zsD3"
   },
   "source": [
    "A equação de uma reta na forma y = ax + b é uma expressão matemática que descreve a relação entre os valores de x e y em uma linha reta. O valor de \"a\" representa a inclinação (ou declive) da reta, que é a taxa de variação entre os valores de x e y. O valor de \"b\" é o ponto de intercepção no eixo y, ou seja, o valor de y quando x é igual a zero. Com essa equação, é possível plotar a reta em um sistema de coordenadas cartesianas, onde o eixo x representa os valores de x e o eixo y representa os valores de y. A equação da reta é amplamente utilizada em várias áreas da matemática e também em outras áreas, como física e engenharia, para modelar dados e prever comportamentos futuros."
   ]
  },
  {
   "cell_type": "markdown",
   "metadata": {
    "id": "Taa4wbGGznZG"
   },
   "source": [
    "a = Coeficiente angular\n",
    "\n",
    "n -> número de elementos\n",
    "\n",
    "Y = Moscow\n",
    "\n",
    "X = datas\n",
    "\n",
    "\n",
    "\n",
    "O coefiente angular pode ser obtido usando a equação:\n",
    "\n",
    "$$ \\hat{a} = \\frac{n*Soma( X_i*Y_i ) - Soma( X_i )*Soma(Y_i)}{n Soma(X_i^2) - (Soma(X_i))^2}$$"
   ]
  },
  {
   "cell_type": "code",
   "execution_count": 42,
   "metadata": {
    "executionInfo": {
     "elapsed": 11,
     "status": "ok",
     "timestamp": 1748965789079,
     "user": {
      "displayName": "Natielli Torres",
      "userId": "07369505193852936460"
     },
     "user_tz": 180
    },
    "id": "0T7qC3lOw41G"
   },
   "outputs": [],
   "source": [
    "Y = Moscow\n",
    "X = datas\n",
    "n = np.size(Moscow)"
   ]
  },
  {
   "cell_type": "code",
   "execution_count": 43,
   "metadata": {
    "colab": {
     "base_uri": "https://localhost:8080/"
    },
    "executionInfo": {
     "elapsed": 6,
     "status": "ok",
     "timestamp": 1748965789846,
     "user": {
      "displayName": "Natielli Torres",
      "userId": "07369505193852936460"
     },
     "user_tz": 180
    },
    "id": "xOpu-zx81fEn",
    "outputId": "43daf302-dc57-455a-8652-0d23dc36a855"
   },
   "outputs": [
    {
     "data": {
      "text/plain": [
       "(87,)"
      ]
     },
     "execution_count": 43,
     "metadata": {},
     "output_type": "execute_result"
    }
   ],
   "source": [
    "X.shape"
   ]
  },
  {
   "cell_type": "code",
   "execution_count": 44,
   "metadata": {
    "colab": {
     "base_uri": "https://localhost:8080/"
    },
    "executionInfo": {
     "elapsed": 8,
     "status": "ok",
     "timestamp": 1748965790702,
     "user": {
      "displayName": "Natielli Torres",
      "userId": "07369505193852936460"
     },
     "user_tz": 180
    },
    "id": "faSSvsVm1gj_",
    "outputId": "97a184c2-4f62-4beb-de84-d01f26c606c5"
   },
   "outputs": [
    {
     "data": {
      "text/plain": [
       "(87,)"
      ]
     },
     "execution_count": 44,
     "metadata": {},
     "output_type": "execute_result"
    }
   ],
   "source": [
    "(X**2).shape"
   ]
  },
  {
   "cell_type": "code",
   "execution_count": 45,
   "metadata": {
    "executionInfo": {
     "elapsed": 2,
     "status": "ok",
     "timestamp": 1748965791737,
     "user": {
      "displayName": "Natielli Torres",
      "userId": "07369505193852936460"
     },
     "user_tz": 180
    },
    "id": "2WOQotCL0_Rs"
   },
   "outputs": [],
   "source": [
    "a = (n*np.sum(X*Y) - np.sum(X)*np.sum(Y))/(n*np.sum(X**2)-np.sum(X)**2)"
   ]
  },
  {
   "cell_type": "markdown",
   "metadata": {
    "id": "w8MOUjBjQ8ay"
   },
   "source": [
    "Coeficiente linear\n",
    "\n",
    "$$ \\hat{b} = Media(Y_i) - \\hat{a} * Media(X_i) $$"
   ]
  },
  {
   "cell_type": "code",
   "execution_count": 46,
   "metadata": {
    "executionInfo": {
     "elapsed": 5,
     "status": "ok",
     "timestamp": 1748965801320,
     "user": {
      "displayName": "Natielli Torres",
      "userId": "07369505193852936460"
     },
     "user_tz": 180
    },
    "id": "rMkslPo41EP8"
   },
   "outputs": [],
   "source": [
    "b = np.mean(Y) - a*np.mean(X)"
   ]
  },
  {
   "cell_type": "code",
   "execution_count": 47,
   "metadata": {
    "executionInfo": {
     "elapsed": 3,
     "status": "ok",
     "timestamp": 1748965802486,
     "user": {
      "displayName": "Natielli Torres",
      "userId": "07369505193852936460"
     },
     "user_tz": 180
    },
    "id": "QlawBOkCTehG"
   },
   "outputs": [],
   "source": [
    "y = a*X+b"
   ]
  },
  {
   "cell_type": "code",
   "execution_count": 48,
   "metadata": {
    "colab": {
     "base_uri": "https://localhost:8080/"
    },
    "executionInfo": {
     "elapsed": 7,
     "status": "ok",
     "timestamp": 1748965803523,
     "user": {
      "displayName": "Natielli Torres",
      "userId": "07369505193852936460"
     },
     "user_tz": 180
    },
    "id": "mnqrm-TDSKgc",
    "outputId": "967d1536-6487-45c8-ce38-585351699f93"
   },
   "outputs": [
    {
     "data": {
      "text/plain": [
       "101.79695399927512"
      ]
     },
     "execution_count": 48,
     "metadata": {},
     "output_type": "execute_result"
    }
   ],
   "source": [
    "np.linalg.norm(Moscow - y)"
   ]
  },
  {
   "cell_type": "code",
   "execution_count": 49,
   "metadata": {
    "colab": {
     "base_uri": "https://localhost:8080/",
     "height": 447
    },
    "executionInfo": {
     "elapsed": 264,
     "status": "ok",
     "timestamp": 1748965804411,
     "user": {
      "displayName": "Natielli Torres",
      "userId": "07369505193852936460"
     },
     "user_tz": 180
    },
    "id": "G8oYEocfTjUV",
    "outputId": "cf7806c0-bd25-4bed-b9f0-248d32786033"
   },
   "outputs": [
    {
     "data": {
      "text/plain": [
       "[<matplotlib.lines.Line2D at 0x130d8fd73b0>]"
      ]
     },
     "execution_count": 49,
     "metadata": {},
     "output_type": "execute_result"
    },
    {
     "data": {
      "image/png": "[encoded data removed]",
      "text/plain": [
       "<Figure size 640x480 with 1 Axes>"
      ]
     },
     "metadata": {},
     "output_type": "display_data"
    }
   ],
   "source": [
    "plt.plot(datas, Moscow)\n",
    "plt.plot(datas, y)"
   ]
  },
  {
   "cell_type": "markdown",
   "metadata": {
    "id": "xpd3AqM5UfGh"
   },
   "source": [
    "## Vídeo 3.3 - Para que serve a regressão linear"
   ]
  },
  {
   "cell_type": "code",
   "execution_count": 50,
   "metadata": {
    "colab": {
     "base_uri": "https://localhost:8080/",
     "height": 447
    },
    "executionInfo": {
     "elapsed": 190,
     "status": "ok",
     "timestamp": 1748965806048,
     "user": {
      "displayName": "Natielli Torres",
      "userId": "07369505193852936460"
     },
     "user_tz": 180
    },
    "id": "GK31M30fT8aQ",
    "outputId": "31ee2c45-d9bc-4ecb-ac95-433de0b02b68"
   },
   "outputs": [
    {
     "data": {
      "text/plain": [
       "[<matplotlib.lines.Line2D at 0x130d9041730>]"
      ]
     },
     "execution_count": 50,
     "metadata": {},
     "output_type": "execute_result"
    },
    {
     "data": {
      "image/png": "[encoded data removed]",
      "text/plain": [
       "<Figure size 640x480 with 1 Axes>"
      ]
     },
     "metadata": {},
     "output_type": "display_data"
    }
   ],
   "source": [
    "plt.plot(datas, Moscow)\n",
    "plt.plot(datas, y)\n",
    "plt.plot(41.5, a*41.5+b,'*r')\n",
    "plt.plot(100, a*100+b,'*r')"
   ]
  },
  {
   "cell_type": "markdown",
   "metadata": {
    "id": "2VmTH3KDWH10"
   },
   "source": [
    "# Aula 4 - Números aleatórios"
   ]
  },
  {
   "cell_type": "markdown",
   "metadata": {
    "id": "BrFG600GcdPM"
   },
   "source": [
    "## Vídeo 4.1 - Valores em um intervalo"
   ]
  },
  {
   "cell_type": "code",
   "execution_count": 51,
   "metadata": {
    "colab": {
     "base_uri": "https://localhost:8080/"
    },
    "executionInfo": {
     "elapsed": 58,
     "status": "ok",
     "timestamp": 1748965808404,
     "user": {
      "displayName": "Natielli Torres",
      "userId": "07369505193852936460"
     },
     "user_tz": 180
    },
    "id": "CJ6v1CXIVdLc",
    "outputId": "051a264b-f3a3-41d3-a978-199eb57892bf"
   },
   "outputs": [
    {
     "data": {
      "text/plain": [
       "array([66, 87, 78, 62, 71, 64, 82, 46, 77, 76, 63, 46, 42, 89, 42, 96, 71,\n",
       "       57, 96, 76, 50, 46, 40, 99, 91, 61, 59, 96, 56, 79, 44, 70, 73, 93,\n",
       "       92, 70, 92, 59, 73, 92, 56, 54, 87, 88, 80, 43, 47, 53, 97, 84, 56,\n",
       "       92, 85, 68, 99, 56, 46, 73, 78, 86, 46, 90, 75, 94, 88, 89, 54, 90,\n",
       "       69, 92, 60, 64, 70, 90, 70, 92, 89, 79, 70, 76, 77, 40, 70, 93, 58,\n",
       "       86, 60, 88, 77, 72, 93, 44, 99, 98, 76, 85, 93, 98, 72, 62])"
      ]
     },
     "execution_count": 51,
     "metadata": {},
     "output_type": "execute_result"
    }
   ],
   "source": [
    "np.random.randint(low=40,high=100,size=100)"
   ]
  },
  {
   "cell_type": "code",
   "execution_count": 52,
   "metadata": {
    "executionInfo": {
     "elapsed": 16,
     "status": "ok",
     "timestamp": 1748965809097,
     "user": {
      "displayName": "Natielli Torres",
      "userId": "07369505193852936460"
     },
     "user_tz": 180
    },
    "id": "gKqeNh_7ZBLd"
   },
   "outputs": [],
   "source": [
    "coef_angulares = np.random.uniform(low=0.10,high=0.90,size=100)"
   ]
  },
  {
   "cell_type": "code",
   "execution_count": 53,
   "metadata": {
    "colab": {
     "base_uri": "https://localhost:8080/"
    },
    "executionInfo": {
     "elapsed": 9,
     "status": "ok",
     "timestamp": 1748965809872,
     "user": {
      "displayName": "Natielli Torres",
      "userId": "07369505193852936460"
     },
     "user_tz": 180
    },
    "id": "fMJuziIkY7oj",
    "outputId": "015a0ef7-99b2-4f37-d6f4-6ba5d3930b3e"
   },
   "outputs": [
    {
     "data": {
      "text/plain": [
       "79.64892274792834"
      ]
     },
     "execution_count": 53,
     "metadata": {},
     "output_type": "execute_result"
    }
   ],
   "source": [
    "b"
   ]
  },
  {
   "cell_type": "code",
   "execution_count": 54,
   "metadata": {
    "executionInfo": {
     "elapsed": 9,
     "status": "ok",
     "timestamp": 1748965810612,
     "user": {
      "displayName": "Natielli Torres",
      "userId": "07369505193852936460"
     },
     "user_tz": 180
    },
    "id": "1s6VqLxeZj_I"
   },
   "outputs": [],
   "source": [
    "norma = np.array([])\n",
    "\n",
    "for i in range(100):\n",
    "  norma = np.append(norma,np.linalg.norm(Moscow- (coef_angulares[i]*X+b)))"
   ]
  },
  {
   "cell_type": "code",
   "execution_count": 55,
   "metadata": {
    "colab": {
     "base_uri": "https://localhost:8080/"
    },
    "executionInfo": {
     "elapsed": 41,
     "status": "ok",
     "timestamp": 1748965811326,
     "user": {
      "displayName": "Natielli Torres",
      "userId": "07369505193852936460"
     },
     "user_tz": 180
    },
    "id": "c9TdvSp5aE4B",
    "outputId": "819279cd-60fe-465d-89d1-7e4294ccc76c"
   },
   "outputs": [
    {
     "data": {
      "text/plain": [
       "array([102.4780445 , 176.41878039, 125.49911829, 133.83286826,\n",
       "       183.33590239, 169.79524358, 172.88943306, 132.8654185 ,\n",
       "       116.57612755, 167.25147746, 110.39296258, 169.93609112,\n",
       "       202.60084085, 195.06533157, 156.30507944, 102.57765585,\n",
       "       229.55952435, 220.72734388, 124.79354546, 117.05533195,\n",
       "       148.23989644, 175.27025358, 184.5291435 , 107.02249506,\n",
       "       123.76248648, 113.56091112, 206.0063973 , 179.72965349,\n",
       "       128.42583875, 144.68280995, 118.61037341, 106.45280608,\n",
       "       102.80191779, 187.90062533, 107.44243083, 102.23997828,\n",
       "       128.74893054, 124.17323552, 153.02487066, 128.32481501,\n",
       "       127.7087738 , 104.39266366, 103.36059248, 186.4922165 ,\n",
       "       158.96950422, 152.52722857, 102.95751759, 155.72405671,\n",
       "       203.9541295 , 175.85151889, 102.26378735, 146.75781442,\n",
       "       121.94765706, 178.06249725, 106.15722151, 159.97764119,\n",
       "       171.65718417, 178.52730714, 160.86415081, 102.22986442,\n",
       "       147.58749866, 103.91394544, 118.21717595, 181.51572118,\n",
       "       159.67148029, 107.05016501, 104.38156439, 238.73015626,\n",
       "       129.45451199, 208.87633349, 133.17314293, 103.5151112 ,\n",
       "       106.18863259, 129.22586733, 119.05456292, 181.39298599,\n",
       "       102.31342506, 139.2685995 , 122.71952163, 102.55737692,\n",
       "       214.40360343, 132.98250709, 124.23401514, 107.25922855,\n",
       "       109.64507592, 235.59242549, 152.53339008, 211.83581274,\n",
       "       165.66953768, 126.90295741, 102.50824687, 129.61879784,\n",
       "       210.08201376, 234.09196112, 128.27635574, 141.64239363,\n",
       "       196.22501803, 183.41040917, 216.47438581, 105.14399011])"
      ]
     },
     "execution_count": 55,
     "metadata": {},
     "output_type": "execute_result"
    }
   ],
   "source": [
    "norma"
   ]
  },
  {
   "cell_type": "code",
   "execution_count": 56,
   "metadata": {
    "colab": {
     "base_uri": "https://localhost:8080/"
    },
    "executionInfo": {
     "elapsed": 9,
     "status": "ok",
     "timestamp": 1748965811903,
     "user": {
      "displayName": "Natielli Torres",
      "userId": "07369505193852936460"
     },
     "user_tz": 180
    },
    "id": "okEXrVpra5A9",
    "outputId": "0667e376-fed5-46a9-8dfc-42b238b171de"
   },
   "outputs": [
    {
     "data": {
      "text/plain": [
       "0.6190629985862128"
      ]
     },
     "execution_count": 56,
     "metadata": {},
     "output_type": "execute_result"
    }
   ],
   "source": [
    "coef_angulares[3]"
   ]
  },
  {
   "cell_type": "markdown",
   "metadata": {
    "id": "DltD3wG6dD5M"
   },
   "source": [
    "## Vídeo 4.2 - Reprodutibilidade"
   ]
  },
  {
   "cell_type": "markdown",
   "metadata": {
    "id": "mvnO0uvVEbQF"
   },
   "source": [
    "Números pseudoaleatórios são sequências de números gerados por algoritmos que tentam imitar o comportamento de sequências aleatórias. Eles não são verdadeiramente aleatórios, mas parecem ser aleatórios o suficiente para muitas aplicações práticas.\n",
    "\n",
    "Os algoritmos geradores de números pseudoaleatórios geralmente iniciam com uma semente (seed), que é um número inicial que é fornecido como entrada para o algoritmo. A partir da semente, o algoritmo usa operações matemáticas para gerar uma sequência de números aparentemente aleatórios. No entanto, como o algoritmo é determinístico, a sequência de números gerada sempre será a mesma para a mesma semente."
   ]
  },
  {
   "cell_type": "code",
   "execution_count": 57,
   "metadata": {
    "colab": {
     "base_uri": "https://localhost:8080/"
    },
    "executionInfo": {
     "elapsed": 22,
     "status": "ok",
     "timestamp": 1748965813918,
     "user": {
      "displayName": "Natielli Torres",
      "userId": "07369505193852936460"
     },
     "user_tz": 180
    },
    "id": "H1YkA6NCbC7H",
    "outputId": "7e21d297-1dfa-46d9-da27-95621f972878"
   },
   "outputs": [
    {
     "data": {
      "text/plain": [
       "array([0.85335931, 0.42118168, 0.67868279, 0.4906116 , 0.85696687,\n",
       "       0.38192452, 0.48742687, 0.4820574 , 0.36645103, 0.87764282,\n",
       "       0.5798639 , 0.3148136 , 0.7299676 , 0.17815672, 0.14657156,\n",
       "       0.3835687 , 0.16216959, 0.16614188, 0.49153661, 0.33208662,\n",
       "       0.74922338, 0.51098111, 0.53705861, 0.43910421, 0.77184024,\n",
       "       0.56856861, 0.16074403, 0.47999372, 0.37129399, 0.19158092,\n",
       "       0.45532957, 0.2492728 , 0.45498203, 0.731119  , 0.32594632,\n",
       "       0.84643235, 0.7758757 , 0.48666285, 0.69398807, 0.83520097,\n",
       "       0.85372049, 0.37019006, 0.83478852, 0.8137196 , 0.69500089,\n",
       "       0.21469514, 0.76081384, 0.2682394 , 0.55636668, 0.45958421,\n",
       "       0.47446406, 0.19649481, 0.36476826, 0.52572211, 0.67412243,\n",
       "       0.11262679, 0.57768106, 0.27260573, 0.32649344, 0.69053448,\n",
       "       0.1677742 , 0.13510958, 0.82667164, 0.28855823, 0.62936106,\n",
       "       0.57234824, 0.57086735, 0.314314  , 0.14884491, 0.35236435,\n",
       "       0.47952062, 0.62323604, 0.52426067, 0.69052898, 0.20802098,\n",
       "       0.67954093, 0.76922382, 0.39296233, 0.57851911, 0.29598338,\n",
       "       0.33340967, 0.2902092 , 0.30310812, 0.31239345, 0.28957625,\n",
       "       0.84558675, 0.27202455, 0.3097311 , 0.29428127, 0.82712659,\n",
       "       0.68704312, 0.52244117, 0.51442593, 0.36742986, 0.66739283,\n",
       "       0.42090613, 0.19811914, 0.34015748, 0.23567654, 0.4635146 ])"
      ]
     },
     "execution_count": 57,
     "metadata": {},
     "output_type": "execute_result"
    }
   ],
   "source": [
    "np.random.uniform(low=0.10,high=0.90,size=100)"
   ]
  },
  {
   "cell_type": "code",
   "execution_count": 58,
   "metadata": {
    "colab": {
     "base_uri": "https://localhost:8080/"
    },
    "executionInfo": {
     "elapsed": 7,
     "status": "ok",
     "timestamp": 1748965814463,
     "user": {
      "displayName": "Natielli Torres",
      "userId": "07369505193852936460"
     },
     "user_tz": 180
    },
    "id": "mN6BfKOCedw4",
    "outputId": "9ec1f412-7120-4860-c801-1540eeba6de0"
   },
   "outputs": [
    {
     "data": {
      "text/plain": [
       "array([0.27863286, 0.51853067, 0.54056117, 0.13648156, 0.38858307,\n",
       "       0.27846475, 0.65098093, 0.23098514, 0.15625989, 0.85280869,\n",
       "       0.5509451 , 0.16239387, 0.67811241, 0.22676174, 0.30022505,\n",
       "       0.3347898 , 0.65728857, 0.47141127, 0.27204971, 0.45746101,\n",
       "       0.196703  , 0.83414961, 0.55315706, 0.47761545, 0.35165314,\n",
       "       0.13457258, 0.70195593, 0.53461524, 0.71375234, 0.73235901,\n",
       "       0.1577771 , 0.62777267, 0.14263947, 0.64801956, 0.45468077,\n",
       "       0.47439692, 0.62884747, 0.65197331, 0.31066359, 0.10918315,\n",
       "       0.71703556, 0.75291386, 0.21171328, 0.5624054 , 0.37253942,\n",
       "       0.28577239, 0.258915  , 0.31719262, 0.88148221, 0.27234318,\n",
       "       0.38512593, 0.11471996, 0.59343222, 0.28432431, 0.69388139,\n",
       "       0.56740017, 0.43608284, 0.66740227, 0.87763642, 0.74803129,\n",
       "       0.44452414, 0.86618288, 0.13820648, 0.68622544, 0.64053316,\n",
       "       0.52160413, 0.55358996, 0.6783562 , 0.64608268, 0.73625014,\n",
       "       0.19027642, 0.25933011, 0.67705538, 0.41509386, 0.37134832,\n",
       "       0.22275655, 0.18045921, 0.42579769, 0.56633237, 0.69257642,\n",
       "       0.79628867, 0.87322093, 0.46445188, 0.4203384 , 0.3391517 ,\n",
       "       0.76268805, 0.82787294, 0.71290934, 0.15465183, 0.58482122,\n",
       "       0.85137291, 0.18171413, 0.88203161, 0.38535098, 0.62334973,\n",
       "       0.19822857, 0.86908175, 0.62094514, 0.84934225, 0.82706184])"
      ]
     },
     "execution_count": 58,
     "metadata": {},
     "output_type": "execute_result"
    }
   ],
   "source": [
    "np.random.seed(16)\n",
    "np.random.uniform(low=0.10,high=0.90,size=100)"
   ]
  },
  {
   "cell_type": "code",
   "execution_count": 59,
   "metadata": {
    "executionInfo": {
     "elapsed": 6,
     "status": "ok",
     "timestamp": 1748965814978,
     "user": {
      "displayName": "Natielli Torres",
      "userId": "07369505193852936460"
     },
     "user_tz": 180
    },
    "id": "ZPLD3onMg4yW"
   },
   "outputs": [],
   "source": [
    "norma = np.array([])\n",
    "np.random.seed(84)\n",
    "coef_angulares = np.random.uniform(low=0.10,high=0.90,size=100)\n",
    "\n",
    "for i in range(100):\n",
    "  norma = np.append(norma,np.linalg.norm(Moscow- (coef_angulares[i]*X+b)))"
   ]
  },
  {
   "cell_type": "markdown",
   "metadata": {
    "id": "7ceN0CCFgm9P"
   },
   "source": [
    "## Vídeo 4.3 - Salvando os resultados"
   ]
  },
  {
   "cell_type": "code",
   "execution_count": 60,
   "metadata": {
    "executionInfo": {
     "elapsed": 4,
     "status": "ok",
     "timestamp": 1748965816636,
     "user": {
      "displayName": "Natielli Torres",
      "userId": "07369505193852936460"
     },
     "user_tz": 180
    },
    "id": "j-30H0wXf9fp"
   },
   "outputs": [],
   "source": [
    "dados = np.column_stack([norma,coef_angulares])"
   ]
  },
  {
   "cell_type": "code",
   "execution_count": 61,
   "metadata": {
    "colab": {
     "base_uri": "https://localhost:8080/"
    },
    "executionInfo": {
     "elapsed": 11,
     "status": "ok",
     "timestamp": 1748965817360,
     "user": {
      "displayName": "Natielli Torres",
      "userId": "07369505193852936460"
     },
     "user_tz": 180
    },
    "id": "aQJ93coWha0z",
    "outputId": "0b5faeb3-3d06-43c5-e8e0-9cf5fe378af9"
   },
   "outputs": [
    {
     "data": {
      "text/plain": [
       "(100, 2)"
      ]
     },
     "execution_count": 61,
     "metadata": {},
     "output_type": "execute_result"
    }
   ],
   "source": [
    "dados.shape"
   ]
  },
  {
   "cell_type": "code",
   "execution_count": 62,
   "metadata": {
    "executionInfo": {
     "elapsed": 45,
     "status": "ok",
     "timestamp": 1748967928762,
     "user": {
      "displayName": "Natielli Torres",
      "userId": "07369505193852936460"
     },
     "user_tz": 180
    },
    "id": "eXxFQFOChcEt"
   },
   "outputs": [],
   "source": [
    "np.savetxt('dados.csv', dados,delimiter=',')"
   ]
  }
 ],
 "metadata": {
  "colab": {
   "collapsed_sections": [
    "jf_9eE4NwKA4",
    "m1ugXa_NwXIZ",
    "xLPnu4EZ0_Mj"
   ],
   "provenance": []
  },
  "kernelspec": {
   "display_name": "Python [conda env:base] *",
   "language": "python",
   "name": "conda-base-py"
  },
  "language_info": {
   "codemirror_mode": {
    "name": "ipython",
    "version": 3
   },
   "file_extension": ".py",
   "mimetype": "text/x-python",
   "name": "python",
   "nbconvert_exporter": "python",
   "pygments_lexer": "ipython3",
   "version": "3.12.7"
  }
 },
 "nbformat": 4,
 "nbformat_minor": 4
}
