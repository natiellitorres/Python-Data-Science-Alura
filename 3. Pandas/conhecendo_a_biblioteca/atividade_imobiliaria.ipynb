{
 "cells": [
  {
   "cell_type": "markdown",
   "metadata": {
    "id": "goua7aDHJVFQ"
   },
   "source": [
    "## Descrição\n",
    "\n",
    "Esse notebook foi construído para realizar alguns desafios com base no **Projeto Imobiliária**"
   ]
  },
  {
   "cell_type": "markdown",
   "metadata": {
    "id": "uMA6kKxSKtZ6"
   },
   "source": [
    "## Análise exploratória dos dados"
   ]
  },
  {
   "cell_type": "code",
   "execution_count": 1,
   "metadata": {
    "id": "k0kz48JCgTep"
   },
   "outputs": [],
   "source": [
    "# Bibliotecas\n",
    "import pandas as pd\n",
    "import matplotlib.pyplot as plt"
   ]
  },
  {
   "cell_type": "code",
   "execution_count": 2,
   "metadata": {
    "id": "dUODdE3QidZ_"
   },
   "outputs": [],
   "source": [
    "# importando a base de dados\n",
    "url = 'https://raw.githubusercontent.com/alura-cursos/pandas-conhecendo-a-biblioteca/main/base-de-dados/aluguel.csv'\n",
    "dados = pd.read_csv(url, sep=';')"
   ]
  },
  {
   "cell_type": "code",
   "execution_count": 3,
   "metadata": {
    "colab": {
     "base_uri": "https://localhost:8080/",
     "height": 206
    },
    "executionInfo": {
     "elapsed": 205,
     "status": "ok",
     "timestamp": 1748374058673,
     "user": {
      "displayName": "Natielli Torres",
      "userId": "07369505193852936460"
     },
     "user_tz": 180
    },
    "id": "y-FDJ89Fi444",
    "outputId": "1accbb3c-097e-4df7-8ff8-5f1f47c5763a"
   },
   "outputs": [
    {
     "data": {
      "text/html": [
       "<div>\n",
       "<style scoped>\n",
       "    .dataframe tbody tr th:only-of-type {\n",
       "        vertical-align: middle;\n",
       "    }\n",
       "\n",
       "    .dataframe tbody tr th {\n",
       "        vertical-align: top;\n",
       "    }\n",
       "\n",
       "    .dataframe thead th {\n",
       "        text-align: right;\n",
       "    }\n",
       "</style>\n",
       "<table border=\"1\" class=\"dataframe\">\n",
       "  <thead>\n",
       "    <tr style=\"text-align: right;\">\n",
       "      <th></th>\n",
       "      <th>Tipo</th>\n",
       "      <th>Bairro</th>\n",
       "      <th>Quartos</th>\n",
       "      <th>Vagas</th>\n",
       "      <th>Suites</th>\n",
       "      <th>Area</th>\n",
       "      <th>Valor</th>\n",
       "      <th>Condominio</th>\n",
       "      <th>IPTU</th>\n",
       "    </tr>\n",
       "  </thead>\n",
       "  <tbody>\n",
       "    <tr>\n",
       "      <th>3</th>\n",
       "      <td>Apartamento</td>\n",
       "      <td>Centro</td>\n",
       "      <td>1</td>\n",
       "      <td>0</td>\n",
       "      <td>0</td>\n",
       "      <td>15</td>\n",
       "      <td>800.0</td>\n",
       "      <td>390.0</td>\n",
       "      <td>20.0</td>\n",
       "    </tr>\n",
       "    <tr>\n",
       "      <th>4</th>\n",
       "      <td>Apartamento</td>\n",
       "      <td>Higienópolis</td>\n",
       "      <td>1</td>\n",
       "      <td>0</td>\n",
       "      <td>0</td>\n",
       "      <td>48</td>\n",
       "      <td>800.0</td>\n",
       "      <td>230.0</td>\n",
       "      <td>NaN</td>\n",
       "    </tr>\n",
       "    <tr>\n",
       "      <th>5</th>\n",
       "      <td>Apartamento</td>\n",
       "      <td>Vista Alegre</td>\n",
       "      <td>3</td>\n",
       "      <td>1</td>\n",
       "      <td>0</td>\n",
       "      <td>70</td>\n",
       "      <td>1200.0</td>\n",
       "      <td>NaN</td>\n",
       "      <td>NaN</td>\n",
       "    </tr>\n",
       "    <tr>\n",
       "      <th>6</th>\n",
       "      <td>Apartamento</td>\n",
       "      <td>Cachambi</td>\n",
       "      <td>2</td>\n",
       "      <td>0</td>\n",
       "      <td>0</td>\n",
       "      <td>50</td>\n",
       "      <td>1300.0</td>\n",
       "      <td>301.0</td>\n",
       "      <td>17.0</td>\n",
       "    </tr>\n",
       "    <tr>\n",
       "      <th>10</th>\n",
       "      <td>Apartamento</td>\n",
       "      <td>Centro</td>\n",
       "      <td>1</td>\n",
       "      <td>0</td>\n",
       "      <td>0</td>\n",
       "      <td>36</td>\n",
       "      <td>1200.0</td>\n",
       "      <td>NaN</td>\n",
       "      <td>NaN</td>\n",
       "    </tr>\n",
       "  </tbody>\n",
       "</table>\n",
       "</div>"
      ],
      "text/plain": [
       "           Tipo        Bairro  Quartos  Vagas  Suites  Area   Valor  \\\n",
       "3   Apartamento        Centro        1      0       0    15   800.0   \n",
       "4   Apartamento  Higienópolis        1      0       0    48   800.0   \n",
       "5   Apartamento  Vista Alegre        3      1       0    70  1200.0   \n",
       "6   Apartamento      Cachambi        2      0       0    50  1300.0   \n",
       "10  Apartamento        Centro        1      0       0    36  1200.0   \n",
       "\n",
       "    Condominio  IPTU  \n",
       "3        390.0  20.0  \n",
       "4        230.0   NaN  \n",
       "5          NaN   NaN  \n",
       "6        301.0  17.0  \n",
       "10         NaN   NaN  "
      ]
     },
     "execution_count": 3,
     "metadata": {},
     "output_type": "execute_result"
    }
   ],
   "source": [
    "imoveis_comerciais = ['Conjunto Comercial/Sala',\n",
    "                      'Prédio Inteiro', 'Loja/Salão',\n",
    "                      'Galpão/Depósito/Armazém',\n",
    "                      'Casa Comercial', 'Terreno Padrão',\n",
    "                      'Loja Shopping/ Ct Comercial',\n",
    "                      'Box/Garagem', 'Chácara',\n",
    "                      'Loteamento/Condomínio', 'Sítio',\n",
    "                      'Pousada/Chalé', 'Hotel', 'Indústria']\n",
    "\n",
    "# removendo imóveis comerciais\n",
    "df = dados.query('@imoveis_comerciais not in Tipo')\n",
    "\n",
    "# selecionando apenas imóveis do tipo apartamento\n",
    "df = df.query('Tipo == \"Apartamento\"')\n",
    "\n",
    "# visualizando a base de dados\n",
    "df.head()"
   ]
  },
  {
   "cell_type": "markdown",
   "metadata": {
    "id": "0UIfl11Th0em"
   },
   "source": [
    "### Desafio 1\n",
    "Calcular a média de quartos por apartamento"
   ]
  },
  {
   "cell_type": "code",
   "execution_count": 4,
   "metadata": {
    "colab": {
     "base_uri": "https://localhost:8080/"
    },
    "executionInfo": {
     "elapsed": 6,
     "status": "ok",
     "timestamp": 1748374291527,
     "user": {
      "displayName": "Natielli Torres",
      "userId": "07369505193852936460"
     },
     "user_tz": 180
    },
    "id": "VqilmozQKxyM",
    "outputId": "185975bf-29ae-442f-948e-e17a815b0926"
   },
   "outputs": [
    {
     "data": {
      "text/plain": [
       "2.48"
      ]
     },
     "execution_count": 4,
     "metadata": {},
     "output_type": "execute_result"
    }
   ],
   "source": [
    "df['Quartos'].mean().round(2)"
   ]
  },
  {
   "cell_type": "markdown",
   "metadata": {
    "id": "QHOiAeNKh3eZ"
   },
   "source": [
    "### Desafio 2\n",
    "Conferir quantos bairros únicos existem na nossa base de dados"
   ]
  },
  {
   "cell_type": "code",
   "execution_count": 5,
   "metadata": {
    "colab": {
     "base_uri": "https://localhost:8080/"
    },
    "executionInfo": {
     "elapsed": 6,
     "status": "ok",
     "timestamp": 1748374375273,
     "user": {
      "displayName": "Natielli Torres",
      "userId": "07369505193852936460"
     },
     "user_tz": 180
    },
    "id": "OC5iNZ1NjF15",
    "outputId": "18c572b5-fe3d-428b-e981-1592274692a2"
   },
   "outputs": [
    {
     "data": {
      "text/plain": [
       "149"
      ]
     },
     "execution_count": 5,
     "metadata": {},
     "output_type": "execute_result"
    }
   ],
   "source": [
    "df['Bairro'].nunique()"
   ]
  },
  {
   "cell_type": "markdown",
   "metadata": {
    "id": "TXHm9F56h73J"
   },
   "source": [
    "### Desafio 3\n",
    "Analisar quais bairros possuem a média de valor de aluguel mais elevadas"
   ]
  },
  {
   "cell_type": "code",
   "execution_count": 6,
   "metadata": {
    "colab": {
     "base_uri": "https://localhost:8080/",
     "height": 238
    },
    "executionInfo": {
     "elapsed": 34,
     "status": "ok",
     "timestamp": 1748374950995,
     "user": {
      "displayName": "Natielli Torres",
      "userId": "07369505193852936460"
     },
     "user_tz": 180
    },
    "id": "0FWQkKEPh_1M",
    "outputId": "398805ae-fb11-47d9-cda3-35f6edc7dfa6"
   },
   "outputs": [
    {
     "data": {
      "text/html": [
       "<div>\n",
       "<style scoped>\n",
       "    .dataframe tbody tr th:only-of-type {\n",
       "        vertical-align: middle;\n",
       "    }\n",
       "\n",
       "    .dataframe tbody tr th {\n",
       "        vertical-align: top;\n",
       "    }\n",
       "\n",
       "    .dataframe thead th {\n",
       "        text-align: right;\n",
       "    }\n",
       "</style>\n",
       "<table border=\"1\" class=\"dataframe\">\n",
       "  <thead>\n",
       "    <tr style=\"text-align: right;\">\n",
       "      <th></th>\n",
       "      <th>Valor</th>\n",
       "    </tr>\n",
       "    <tr>\n",
       "      <th>Bairro</th>\n",
       "      <th></th>\n",
       "    </tr>\n",
       "  </thead>\n",
       "  <tbody>\n",
       "    <tr>\n",
       "      <th>Joá</th>\n",
       "      <td>15500.00</td>\n",
       "    </tr>\n",
       "    <tr>\n",
       "      <th>Arpoador</th>\n",
       "      <td>12429.77</td>\n",
       "    </tr>\n",
       "    <tr>\n",
       "      <th>Cidade Jardim</th>\n",
       "      <td>12000.00</td>\n",
       "    </tr>\n",
       "    <tr>\n",
       "      <th>Ipanema</th>\n",
       "      <td>9487.21</td>\n",
       "    </tr>\n",
       "    <tr>\n",
       "      <th>Botafogo</th>\n",
       "      <td>9369.21</td>\n",
       "    </tr>\n",
       "  </tbody>\n",
       "</table>\n",
       "</div>"
      ],
      "text/plain": [
       "                  Valor\n",
       "Bairro                 \n",
       "Joá            15500.00\n",
       "Arpoador       12429.77\n",
       "Cidade Jardim  12000.00\n",
       "Ipanema         9487.21\n",
       "Botafogo        9369.21"
      ]
     },
     "execution_count": 6,
     "metadata": {},
     "output_type": "execute_result"
    }
   ],
   "source": [
    "# Agrupa os dados por bairro, calcula a média do valor de aluguel e ordena do maior para o menor\n",
    "media_valor_bairro = df.groupby('Bairro')[['Valor']].mean().round(2).sort_values(by='Valor', ascending=False)\n",
    "\n",
    "# Exibe os 10 bairros com maior média de aluguel\n",
    "media_valor_bairro.head(5)"
   ]
  },
  {
   "cell_type": "markdown",
   "metadata": {
    "id": "hosuaZ-aiBHB"
   },
   "source": [
    "### Desafio 4\n",
    "Criar um gráfico de barras verticais que apresente os 5 bairros com a média de valor de aluguel mais elevadas"
   ]
  },
  {
   "cell_type": "code",
   "execution_count": 7,
   "metadata": {
    "colab": {
     "base_uri": "https://localhost:8080/",
     "height": 628
    },
    "executionInfo": {
     "elapsed": 285,
     "status": "ok",
     "timestamp": 1748374750407,
     "user": {
      "displayName": "Natielli Torres",
      "userId": "07369505193852936460"
     },
     "user_tz": 180
    },
    "id": "M7UR4aTBl2nR",
    "outputId": "394e1558-4c76-4109-a55e-1703d7f1e5e2"
   },
   "outputs": [
    {
     "data": {
      "image/png": "[encoded data removed]",
      "text/plain": [
       "<Figure size 1200x800 with 1 Axes>"
      ]
     },
     "metadata": {},
     "output_type": "display_data"
    }
   ],
   "source": [
    "media_valor_bairro.head().plot(kind='barh', figsize=(12, 8), color='darkblue')\n",
    "plt.title('Top 5 Bairros com Maior Média de Aluguel')\n",
    "plt.xlabel('Valor Médio (R$)')\n",
    "plt.ylabel('Bairro')\n",
    "plt.gca().invert_yaxis()  # Inverte para o maior valor no topo\n",
    "plt.show()"
   ]
  }
 ],
 "metadata": {
  "colab": {
   "provenance": [],
   "toc_visible": true
  },
  "kernelspec": {
   "display_name": "Python [conda env:base] *",
   "language": "python",
   "name": "conda-base-py"
  },
  "language_info": {
   "codemirror_mode": {
    "name": "ipython",
    "version": 3
   },
   "file_extension": ".py",
   "mimetype": "text/x-python",
   "name": "python",
   "nbconvert_exporter": "python",
   "pygments_lexer": "ipython3",
   "version": "3.12.7"
  }
 },
 "nbformat": 4,
 "nbformat_minor": 4
}
