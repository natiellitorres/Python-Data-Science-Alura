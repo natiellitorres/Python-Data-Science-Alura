{
 "cells": [
  {
   "cell_type": "code",
   "execution_count": 3,
   "id": "b94e63c2-29d0-4347-b14f-45fe547c6dd1",
   "metadata": {},
   "outputs": [
    {
     "data": {
      "text/html": [
       "<div>\n",
       "<style scoped>\n",
       "    .dataframe tbody tr th:only-of-type {\n",
       "        vertical-align: middle;\n",
       "    }\n",
       "\n",
       "    .dataframe tbody tr th {\n",
       "        vertical-align: top;\n",
       "    }\n",
       "\n",
       "    .dataframe thead th {\n",
       "        text-align: right;\n",
       "    }\n",
       "</style>\n",
       "<table border=\"1\" class=\"dataframe\">\n",
       "  <thead>\n",
       "    <tr style=\"text-align: right;\">\n",
       "      <th></th>\n",
       "      <th>id</th>\n",
       "      <th>data</th>\n",
       "      <th>vaga_disponivel</th>\n",
       "      <th>preco</th>\n",
       "    </tr>\n",
       "  </thead>\n",
       "  <tbody>\n",
       "    <tr>\n",
       "      <th>0</th>\n",
       "      <td>857</td>\n",
       "      <td>2016-01-04</td>\n",
       "      <td>False</td>\n",
       "      <td>None</td>\n",
       "    </tr>\n",
       "    <tr>\n",
       "      <th>1</th>\n",
       "      <td>857</td>\n",
       "      <td>2016-01-05</td>\n",
       "      <td>False</td>\n",
       "      <td>None</td>\n",
       "    </tr>\n",
       "    <tr>\n",
       "      <th>2</th>\n",
       "      <td>857</td>\n",
       "      <td>2016-01-06</td>\n",
       "      <td>False</td>\n",
       "      <td>None</td>\n",
       "    </tr>\n",
       "    <tr>\n",
       "      <th>3</th>\n",
       "      <td>857</td>\n",
       "      <td>2016-01-07</td>\n",
       "      <td>False</td>\n",
       "      <td>None</td>\n",
       "    </tr>\n",
       "    <tr>\n",
       "      <th>4</th>\n",
       "      <td>857</td>\n",
       "      <td>2016-01-08</td>\n",
       "      <td>False</td>\n",
       "      <td>None</td>\n",
       "    </tr>\n",
       "  </tbody>\n",
       "</table>\n",
       "</div>"
      ],
      "text/plain": [
       "    id        data  vaga_disponivel preco\n",
       "0  857  2016-01-04            False  None\n",
       "1  857  2016-01-05            False  None\n",
       "2  857  2016-01-06            False  None\n",
       "3  857  2016-01-07            False  None\n",
       "4  857  2016-01-08            False  None"
      ]
     },
     "execution_count": 3,
     "metadata": {},
     "output_type": "execute_result"
    }
   ],
   "source": [
    "import pandas as pd\n",
    "dt_data = pd.read_json('dados/moveis_disponiveis.json')\n",
    "\n",
    "dt_data.head()"
   ]
  },
  {
   "cell_type": "code",
   "execution_count": 4,
   "id": "1bb89849-ddcd-4a75-9eea-74254eeb8b1b",
   "metadata": {},
   "outputs": [
    {
     "name": "stdout",
     "output_type": "stream",
     "text": [
      "<class 'pandas.core.frame.DataFrame'>\n",
      "Index: 365000 entries, 0 to 364999\n",
      "Data columns (total 4 columns):\n",
      " #   Column           Non-Null Count   Dtype \n",
      "---  ------           --------------   ----- \n",
      " 0   id               365000 non-null  int64 \n",
      " 1   data             365000 non-null  object\n",
      " 2   vaga_disponivel  365000 non-null  bool  \n",
      " 3   preco            270547 non-null  object\n",
      "dtypes: bool(1), int64(1), object(2)\n",
      "memory usage: 11.5+ MB\n"
     ]
    }
   ],
   "source": [
    "dt_data.info()"
   ]
  },
  {
   "cell_type": "code",
   "execution_count": 5,
   "id": "4bfae195-b11b-4db3-9752-c317412b9f45",
   "metadata": {},
   "outputs": [],
   "source": [
    "dt_data['data'] = pd.to_datetime(dt_data['data'])"
   ]
  },
  {
   "cell_type": "code",
   "execution_count": 6,
   "id": "341f37c5-1344-4092-8136-24d458cb4ad8",
   "metadata": {},
   "outputs": [
    {
     "name": "stdout",
     "output_type": "stream",
     "text": [
      "<class 'pandas.core.frame.DataFrame'>\n",
      "Index: 365000 entries, 0 to 364999\n",
      "Data columns (total 4 columns):\n",
      " #   Column           Non-Null Count   Dtype         \n",
      "---  ------           --------------   -----         \n",
      " 0   id               365000 non-null  int64         \n",
      " 1   data             365000 non-null  datetime64[ns]\n",
      " 2   vaga_disponivel  365000 non-null  bool          \n",
      " 3   preco            270547 non-null  object        \n",
      "dtypes: bool(1), datetime64[ns](1), int64(1), object(1)\n",
      "memory usage: 11.5+ MB\n"
     ]
    }
   ],
   "source": [
    "dt_data.info()"
   ]
  },
  {
   "cell_type": "code",
   "execution_count": 7,
   "id": "5f66c817-203c-4bfb-a5c3-98a2712efef1",
   "metadata": {},
   "outputs": [
    {
     "data": {
      "text/html": [
       "<div>\n",
       "<style scoped>\n",
       "    .dataframe tbody tr th:only-of-type {\n",
       "        vertical-align: middle;\n",
       "    }\n",
       "\n",
       "    .dataframe tbody tr th {\n",
       "        vertical-align: top;\n",
       "    }\n",
       "\n",
       "    .dataframe thead th {\n",
       "        text-align: right;\n",
       "    }\n",
       "</style>\n",
       "<table border=\"1\" class=\"dataframe\">\n",
       "  <thead>\n",
       "    <tr style=\"text-align: right;\">\n",
       "      <th></th>\n",
       "      <th>id</th>\n",
       "      <th>data</th>\n",
       "      <th>vaga_disponivel</th>\n",
       "      <th>preco</th>\n",
       "    </tr>\n",
       "  </thead>\n",
       "  <tbody>\n",
       "    <tr>\n",
       "      <th>0</th>\n",
       "      <td>857</td>\n",
       "      <td>2016-01-04</td>\n",
       "      <td>False</td>\n",
       "      <td>None</td>\n",
       "    </tr>\n",
       "    <tr>\n",
       "      <th>1</th>\n",
       "      <td>857</td>\n",
       "      <td>2016-01-05</td>\n",
       "      <td>False</td>\n",
       "      <td>None</td>\n",
       "    </tr>\n",
       "    <tr>\n",
       "      <th>2</th>\n",
       "      <td>857</td>\n",
       "      <td>2016-01-06</td>\n",
       "      <td>False</td>\n",
       "      <td>None</td>\n",
       "    </tr>\n",
       "    <tr>\n",
       "      <th>3</th>\n",
       "      <td>857</td>\n",
       "      <td>2016-01-07</td>\n",
       "      <td>False</td>\n",
       "      <td>None</td>\n",
       "    </tr>\n",
       "    <tr>\n",
       "      <th>4</th>\n",
       "      <td>857</td>\n",
       "      <td>2016-01-08</td>\n",
       "      <td>False</td>\n",
       "      <td>None</td>\n",
       "    </tr>\n",
       "  </tbody>\n",
       "</table>\n",
       "</div>"
      ],
      "text/plain": [
       "    id       data  vaga_disponivel preco\n",
       "0  857 2016-01-04            False  None\n",
       "1  857 2016-01-05            False  None\n",
       "2  857 2016-01-06            False  None\n",
       "3  857 2016-01-07            False  None\n",
       "4  857 2016-01-08            False  None"
      ]
     },
     "execution_count": 7,
     "metadata": {},
     "output_type": "execute_result"
    }
   ],
   "source": [
    "dt_data.head()"
   ]
  },
  {
   "cell_type": "code",
   "execution_count": 8,
   "id": "8f4d5a6e-f74e-444e-9966-88143127d103",
   "metadata": {},
   "outputs": [
    {
     "data": {
      "text/plain": [
       "0         2016-01\n",
       "1         2016-01\n",
       "2         2016-01\n",
       "3         2016-01\n",
       "4         2016-01\n",
       "           ...   \n",
       "364995    2016-12\n",
       "364996    2016-12\n",
       "364997    2016-12\n",
       "364998    2017-01\n",
       "364999    2017-01\n",
       "Name: data, Length: 365000, dtype: object"
      ]
     },
     "execution_count": 8,
     "metadata": {},
     "output_type": "execute_result"
    }
   ],
   "source": [
    "dt_data['data'].dt.strftime('%Y-%m')"
   ]
  },
  {
   "cell_type": "code",
   "execution_count": 9,
   "id": "f39ee9fa-1314-478f-8414-9a896222001b",
   "metadata": {},
   "outputs": [
    {
     "data": {
      "text/plain": [
       "data\n",
       "2016-01    16543\n",
       "2016-02    20128\n",
       "2016-03    23357\n",
       "2016-04    22597\n",
       "2016-05    23842\n",
       "2016-06    23651\n",
       "2016-07    22329\n",
       "2016-08    22529\n",
       "2016-09    22471\n",
       "2016-10    23765\n",
       "2016-11    23352\n",
       "2016-12    24409\n",
       "2017-01     1574\n",
       "Name: vaga_disponivel, dtype: int64"
      ]
     },
     "execution_count": 9,
     "metadata": {},
     "output_type": "execute_result"
    }
   ],
   "source": [
    "subset = dt_data.groupby(dt_data['data'].dt.strftime('%Y-%m'))['vaga_disponivel'].sum()\n",
    "subset"
   ]
  }
 ],
 "metadata": {
  "kernelspec": {
   "display_name": "datascience",
   "language": "python",
   "name": "datascience"
  },
  "language_info": {
   "codemirror_mode": {
    "name": "ipython",
    "version": 3
   },
   "file_extension": ".py",
   "mimetype": "text/x-python",
   "name": "python",
   "nbconvert_exporter": "python",
   "pygments_lexer": "ipython3",
   "version": "3.12.11"
  }
 },
 "nbformat": 4,
 "nbformat_minor": 5
}
