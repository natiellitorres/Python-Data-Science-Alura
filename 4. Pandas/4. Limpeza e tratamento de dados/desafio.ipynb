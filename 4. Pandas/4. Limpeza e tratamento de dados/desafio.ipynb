{
 "cells": [
  {
   "cell_type": "code",
   "execution_count": 1,
   "id": "988833e8-a665-466b-9061-ea1b19ad6a05",
   "metadata": {
    "editable": true,
    "slideshow": {
     "slide_type": ""
    },
    "tags": []
   },
   "outputs": [
    {
     "data": {
      "text/plain": [
       "{'nome': 'João',\n",
       " 'idade': 28,\n",
       " 'enderecos': [{'tipo': 'casa',\n",
       "   'rua': 'Rua A',\n",
       "   'numero': 123,\n",
       "   'cidade': 'São Paulo'},\n",
       "  {'tipo': 'trabalho',\n",
       "   'rua': 'Rua B',\n",
       "   'numero': 456,\n",
       "   'cidade': 'Rio de Janeiro'}]}"
      ]
     },
     "execution_count": 1,
     "metadata": {},
     "output_type": "execute_result"
    }
   ],
   "source": [
    "import json\n",
    "\n",
    "with open('informacoes.json', encoding='utf-8') as f:\n",
    "    dados = json.load(f)\n",
    "\n",
    "dados"
   ]
  },
  {
   "cell_type": "code",
   "execution_count": 2,
   "id": "1670f5be-d859-4fda-ba86-0dd207416a96",
   "metadata": {},
   "outputs": [],
   "source": [
    "import pandas as pd\n",
    "\n",
    "informacoes = pd.json_normalize(dados, record_path='enderecos', meta=['nome', 'idade'])"
   ]
  },
  {
   "cell_type": "code",
   "execution_count": 3,
   "id": "840672c5-7dc3-47bc-b532-9215a9c03a4c",
   "metadata": {},
   "outputs": [
    {
     "data": {
      "text/html": [
       "<div>\n",
       "<style scoped>\n",
       "    .dataframe tbody tr th:only-of-type {\n",
       "        vertical-align: middle;\n",
       "    }\n",
       "\n",
       "    .dataframe tbody tr th {\n",
       "        vertical-align: top;\n",
       "    }\n",
       "\n",
       "    .dataframe thead th {\n",
       "        text-align: right;\n",
       "    }\n",
       "</style>\n",
       "<table border=\"1\" class=\"dataframe\">\n",
       "  <thead>\n",
       "    <tr style=\"text-align: right;\">\n",
       "      <th></th>\n",
       "      <th>tipo</th>\n",
       "      <th>rua</th>\n",
       "      <th>numero</th>\n",
       "      <th>cidade</th>\n",
       "      <th>nome</th>\n",
       "      <th>idade</th>\n",
       "    </tr>\n",
       "  </thead>\n",
       "  <tbody>\n",
       "    <tr>\n",
       "      <th>0</th>\n",
       "      <td>casa</td>\n",
       "      <td>Rua A</td>\n",
       "      <td>123</td>\n",
       "      <td>São Paulo</td>\n",
       "      <td>João</td>\n",
       "      <td>28</td>\n",
       "    </tr>\n",
       "    <tr>\n",
       "      <th>1</th>\n",
       "      <td>trabalho</td>\n",
       "      <td>Rua B</td>\n",
       "      <td>456</td>\n",
       "      <td>Rio de Janeiro</td>\n",
       "      <td>João</td>\n",
       "      <td>28</td>\n",
       "    </tr>\n",
       "  </tbody>\n",
       "</table>\n",
       "</div>"
      ],
      "text/plain": [
       "       tipo    rua  numero          cidade  nome idade\n",
       "0      casa  Rua A     123       São Paulo  João    28\n",
       "1  trabalho  Rua B     456  Rio de Janeiro  João    28"
      ]
     },
     "execution_count": 3,
     "metadata": {},
     "output_type": "execute_result"
    }
   ],
   "source": [
    "informacoes"
   ]
  },
  {
   "cell_type": "markdown",
   "id": "b91d3a7e-f633-45aa-8d89-b2c3ac5f734d",
   "metadata": {
    "editable": true,
    "slideshow": {
     "slide_type": ""
    },
    "tags": []
   },
   "source": [
    "Você recebeu e fez o download o arquivo JSON chamado “dados.json”.\n",
    "\n",
    "Sua tarefa é realizar alguns tratamentos e deixar esse arquivo JSON como um Pandas DataFrame, sem dados vazios e com a tipagem das colunas de forma correta. Como isso pode ser feito?\n"
   ]
  },
  {
   "cell_type": "code",
   "execution_count": 14,
   "id": "6294fcd4-fcd9-4501-a169-38fef0025722",
   "metadata": {
    "scrolled": true
   },
   "outputs": [],
   "source": [
    "import json\n",
    "\n",
    "with open('dados.json', 'r', encoding='utf-8') as f:\n",
    "    dados = json.load(f)"
   ]
  },
  {
   "cell_type": "code",
   "execution_count": 15,
   "id": "92ead119-1ef3-4c2d-b072-26f32b4f3825",
   "metadata": {
    "scrolled": true
   },
   "outputs": [
    {
     "data": {
      "text/html": [
       "<div>\n",
       "<style scoped>\n",
       "    .dataframe tbody tr th:only-of-type {\n",
       "        vertical-align: middle;\n",
       "    }\n",
       "\n",
       "    .dataframe tbody tr th {\n",
       "        vertical-align: top;\n",
       "    }\n",
       "\n",
       "    .dataframe thead th {\n",
       "        text-align: right;\n",
       "    }\n",
       "</style>\n",
       "<table border=\"1\" class=\"dataframe\">\n",
       "  <thead>\n",
       "    <tr style=\"text-align: right;\">\n",
       "      <th></th>\n",
       "      <th>nome</th>\n",
       "      <th>idade</th>\n",
       "      <th>telefones</th>\n",
       "      <th>endereco.rua</th>\n",
       "      <th>endereco.numero</th>\n",
       "      <th>endereco.cidade</th>\n",
       "    </tr>\n",
       "  </thead>\n",
       "  <tbody>\n",
       "    <tr>\n",
       "      <th>0</th>\n",
       "      <td>João</td>\n",
       "      <td>25</td>\n",
       "      <td>[11 1111-1111, 11 2222-2222]</td>\n",
       "      <td>Rua A</td>\n",
       "      <td>123</td>\n",
       "      <td>São Paulo</td>\n",
       "    </tr>\n",
       "    <tr>\n",
       "      <th>1</th>\n",
       "      <td>Maria</td>\n",
       "      <td>30</td>\n",
       "      <td>[21 3333-3333]</td>\n",
       "      <td></td>\n",
       "      <td>456</td>\n",
       "      <td>Rio de Janeiro</td>\n",
       "    </tr>\n",
       "  </tbody>\n",
       "</table>\n",
       "</div>"
      ],
      "text/plain": [
       "    nome idade                     telefones endereco.rua  endereco.numero  \\\n",
       "0   João    25  [11 1111-1111, 11 2222-2222]        Rua A              123   \n",
       "1  Maria    30                [21 3333-3333]                           456   \n",
       "\n",
       "  endereco.cidade  \n",
       "0       São Paulo  \n",
       "1  Rio de Janeiro  "
      ]
     },
     "execution_count": 15,
     "metadata": {},
     "output_type": "execute_result"
    }
   ],
   "source": [
    "#Normalizar o JSON com o método json_normalize\n",
    "import pandas as pd\n",
    "df = pd.json_normalize(dados, record_path=['pessoas'])\n",
    "\n",
    "df"
   ]
  },
  {
   "cell_type": "code",
   "execution_count": 16,
   "id": "038ea759-5f39-4d06-a6ef-2ee224e084a0",
   "metadata": {},
   "outputs": [
    {
     "name": "stdout",
     "output_type": "stream",
     "text": [
      "<class 'pandas.core.frame.DataFrame'>\n",
      "RangeIndex: 2 entries, 0 to 1\n",
      "Data columns (total 6 columns):\n",
      " #   Column           Non-Null Count  Dtype \n",
      "---  ------           --------------  ----- \n",
      " 0   nome             2 non-null      object\n",
      " 1   idade            2 non-null      object\n",
      " 2   telefones        2 non-null      object\n",
      " 3   endereco.rua     2 non-null      object\n",
      " 4   endereco.numero  2 non-null      int64 \n",
      " 5   endereco.cidade  2 non-null      object\n",
      "dtypes: int64(1), object(5)\n",
      "memory usage: 228.0+ bytes\n"
     ]
    }
   ],
   "source": [
    "#Fazer o cast das colunas para suas tipagens corretas\n",
    "df.info()"
   ]
  },
  {
   "cell_type": "code",
   "execution_count": 17,
   "id": "66e29399-32fa-4860-83f4-e633fc5a7311",
   "metadata": {},
   "outputs": [],
   "source": [
    "df['idade'] = df['idade'].astype(int)"
   ]
  },
  {
   "cell_type": "code",
   "execution_count": 22,
   "id": "53a9b083-12bc-4631-afd9-0a82eb593c3a",
   "metadata": {},
   "outputs": [
    {
     "data": {
      "text/html": [
       "<div>\n",
       "<style scoped>\n",
       "    .dataframe tbody tr th:only-of-type {\n",
       "        vertical-align: middle;\n",
       "    }\n",
       "\n",
       "    .dataframe tbody tr th {\n",
       "        vertical-align: top;\n",
       "    }\n",
       "\n",
       "    .dataframe thead th {\n",
       "        text-align: right;\n",
       "    }\n",
       "</style>\n",
       "<table border=\"1\" class=\"dataframe\">\n",
       "  <thead>\n",
       "    <tr style=\"text-align: right;\">\n",
       "      <th></th>\n",
       "      <th>nome</th>\n",
       "      <th>idade</th>\n",
       "      <th>telefones</th>\n",
       "      <th>endereco.rua</th>\n",
       "      <th>endereco.numero</th>\n",
       "      <th>endereco.cidade</th>\n",
       "    </tr>\n",
       "  </thead>\n",
       "  <tbody>\n",
       "    <tr>\n",
       "      <th>0</th>\n",
       "      <td>João</td>\n",
       "      <td>25</td>\n",
       "      <td>[11 1111-1111, 11 2222-2222]</td>\n",
       "      <td>Rua A</td>\n",
       "      <td>123</td>\n",
       "      <td>São Paulo</td>\n",
       "    </tr>\n",
       "    <tr>\n",
       "      <th>1</th>\n",
       "      <td>Maria</td>\n",
       "      <td>30</td>\n",
       "      <td>[21 3333-3333]</td>\n",
       "      <td></td>\n",
       "      <td>456</td>\n",
       "      <td>Rio de Janeiro</td>\n",
       "    </tr>\n",
       "  </tbody>\n",
       "</table>\n",
       "</div>"
      ],
      "text/plain": [
       "    nome  idade                     telefones endereco.rua  endereco.numero  \\\n",
       "0   João     25  [11 1111-1111, 11 2222-2222]        Rua A              123   \n",
       "1  Maria     30                [21 3333-3333]                           456   \n",
       "\n",
       "  endereco.cidade  \n",
       "0       São Paulo  \n",
       "1  Rio de Janeiro  "
      ]
     },
     "execution_count": 22,
     "metadata": {},
     "output_type": "execute_result"
    }
   ],
   "source": [
    "df"
   ]
  },
  {
   "cell_type": "code",
   "execution_count": 25,
   "id": "a65045da-6d28-4de7-bccf-39f9123c662d",
   "metadata": {
    "scrolled": true
   },
   "outputs": [],
   "source": [
    "#Filtro e remoção dos dados com valores vazios\n",
    "df_filtrado = df.query('`endereco.rua` != \"\"')"
   ]
  },
  {
   "cell_type": "code",
   "execution_count": 26,
   "id": "2d24defd-4a46-4c08-925e-bc510e75cdae",
   "metadata": {
    "editable": true,
    "slideshow": {
     "slide_type": ""
    },
    "tags": []
   },
   "outputs": [
    {
     "data": {
      "text/html": [
       "<div>\n",
       "<style scoped>\n",
       "    .dataframe tbody tr th:only-of-type {\n",
       "        vertical-align: middle;\n",
       "    }\n",
       "\n",
       "    .dataframe tbody tr th {\n",
       "        vertical-align: top;\n",
       "    }\n",
       "\n",
       "    .dataframe thead th {\n",
       "        text-align: right;\n",
       "    }\n",
       "</style>\n",
       "<table border=\"1\" class=\"dataframe\">\n",
       "  <thead>\n",
       "    <tr style=\"text-align: right;\">\n",
       "      <th></th>\n",
       "      <th>nome</th>\n",
       "      <th>idade</th>\n",
       "      <th>telefones</th>\n",
       "      <th>endereco.rua</th>\n",
       "      <th>endereco.numero</th>\n",
       "      <th>endereco.cidade</th>\n",
       "    </tr>\n",
       "  </thead>\n",
       "  <tbody>\n",
       "    <tr>\n",
       "      <th>0</th>\n",
       "      <td>João</td>\n",
       "      <td>25</td>\n",
       "      <td>[11 1111-1111, 11 2222-2222]</td>\n",
       "      <td>Rua A</td>\n",
       "      <td>123</td>\n",
       "      <td>São Paulo</td>\n",
       "    </tr>\n",
       "  </tbody>\n",
       "</table>\n",
       "</div>"
      ],
      "text/plain": [
       "   nome  idade                     telefones endereco.rua  endereco.numero  \\\n",
       "0  João     25  [11 1111-1111, 11 2222-2222]        Rua A              123   \n",
       "\n",
       "  endereco.cidade  \n",
       "0       São Paulo  "
      ]
     },
     "execution_count": 26,
     "metadata": {},
     "output_type": "execute_result"
    }
   ],
   "source": [
    "df_filtrado"
   ]
  },
  {
   "cell_type": "markdown",
   "id": "c163558d-af55-4e05-b73e-616cfed5cee4",
   "metadata": {},
   "source": [
    "## Tratando uma base de dados"
   ]
  },
  {
   "cell_type": "markdown",
   "id": "13c30976-204e-4443-b993-6be2a7fdf7dc",
   "metadata": {},
   "source": [
    "Para facilitar a análise dos dados de cadastro de cursos de uma plataforma, você recebeu um arquivo chamado cursos_cadastrados.json. Você foi informado que esses dados podem apresentar problemas que podem prejudicar a análise e interpretação correta dos dados.\n",
    "\n",
    "Para resolver isso, foi solicitado que você identifique e remova as amostras que apresentam os seguintes problemas:\n",
    "\n",
    "Valores nulos: são valores ausentes em algumas das colunas que devem ser preenchidos para que a análise seja correta.\n",
    "Duplicatas: registros iguais que podem prejudicar a análise dos dados, já que estão representando a mesma informação.\n",
    "Strings vazias: valores de texto que não apresentam nenhum conteúdo escrito, o que pode dificultar a análise de dados, principalmente se a coluna tiver muitos valores assim.\n",
    "Conversão de tipos: algumas colunas do arquivo podem estar no tipo de dados errado, como texto em vez de número, o que pode prejudicar a análise. Nesse caso você deve realizar a conversão para o tipo correto de cada coluna.\n",
    "Dentro desse contexto, você precisará de uma abordagem sistemática para limpar os dados. Assim, como isso pode ser feito?"
   ]
  },
  {
   "cell_type": "code",
   "execution_count": 29,
   "id": "519d9841-1d4e-4435-ac58-a7be3a0b656b",
   "metadata": {
    "scrolled": true
   },
   "outputs": [
    {
     "data": {
      "text/html": [
       "<div>\n",
       "<style scoped>\n",
       "    .dataframe tbody tr th:only-of-type {\n",
       "        vertical-align: middle;\n",
       "    }\n",
       "\n",
       "    .dataframe tbody tr th {\n",
       "        vertical-align: top;\n",
       "    }\n",
       "\n",
       "    .dataframe thead th {\n",
       "        text-align: right;\n",
       "    }\n",
       "</style>\n",
       "<table border=\"1\" class=\"dataframe\">\n",
       "  <thead>\n",
       "    <tr style=\"text-align: right;\">\n",
       "      <th></th>\n",
       "      <th>curso</th>\n",
       "      <th>categoria</th>\n",
       "      <th>carga_horaria</th>\n",
       "      <th>concluintes</th>\n",
       "      <th>data_inicio</th>\n",
       "      <th>data_conclusao</th>\n",
       "      <th>descricao</th>\n",
       "      <th>preco</th>\n",
       "      <th>instrutor.nome</th>\n",
       "      <th>instrutor.email</th>\n",
       "      <th>instrutor.telefone</th>\n",
       "    </tr>\n",
       "  </thead>\n",
       "  <tbody>\n",
       "    <tr>\n",
       "      <th>0</th>\n",
       "      <td>Introdução à programação</td>\n",
       "      <td>Programação</td>\n",
       "      <td>20 horas</td>\n",
       "      <td>100</td>\n",
       "      <td>2022-01-01</td>\n",
       "      <td>2022-01-20</td>\n",
       "      <td>Curso introdutório à programação com Python</td>\n",
       "      <td>99.90</td>\n",
       "      <td>João Silva</td>\n",
       "      <td>joao.silva@emailaleatorio.com</td>\n",
       "      <td>(11) 9999-9999</td>\n",
       "    </tr>\n",
       "    <tr>\n",
       "      <th>1</th>\n",
       "      <td>Excel para iniciantes</td>\n",
       "      <td>Produtividade</td>\n",
       "      <td>None</td>\n",
       "      <td>None</td>\n",
       "      <td>None</td>\n",
       "      <td>None</td>\n",
       "      <td>None</td>\n",
       "      <td>None</td>\n",
       "      <td>Maria Oliveira</td>\n",
       "      <td>maria.oliveira@emailaleatorio.com</td>\n",
       "      <td>(11) 8888-8888</td>\n",
       "    </tr>\n",
       "    <tr>\n",
       "      <th>2</th>\n",
       "      <td>Marketing digital para negócios</td>\n",
       "      <td>Marketing</td>\n",
       "      <td>30 horas</td>\n",
       "      <td>75</td>\n",
       "      <td>2022-03-01</td>\n",
       "      <td>2022-03-31</td>\n",
       "      <td>Curso introdutório em marketing</td>\n",
       "      <td>89.9</td>\n",
       "      <td>Ana Santos</td>\n",
       "      <td>ana.santos@emailaleatorio.com</td>\n",
       "      <td>(11) 7777-7777</td>\n",
       "    </tr>\n",
       "    <tr>\n",
       "      <th>3</th>\n",
       "      <td>Inteligência artificial</td>\n",
       "      <td>Programação</td>\n",
       "      <td>40 horas</td>\n",
       "      <td></td>\n",
       "      <td>2022-04-01</td>\n",
       "      <td></td>\n",
       "      <td>Curso avançado sobre inteligência artificial c...</td>\n",
       "      <td>129.9</td>\n",
       "      <td></td>\n",
       "      <td>contato@emailaleatorio.com</td>\n",
       "      <td></td>\n",
       "    </tr>\n",
       "    <tr>\n",
       "      <th>4</th>\n",
       "      <td>Inglês para negócios</td>\n",
       "      <td>Idiomas</td>\n",
       "      <td>20 horas</td>\n",
       "      <td>30</td>\n",
       "      <td></td>\n",
       "      <td></td>\n",
       "      <td>Curso de inglês para negócios</td>\n",
       "      <td>69.9</td>\n",
       "      <td>John Smith</td>\n",
       "      <td></td>\n",
       "      <td></td>\n",
       "    </tr>\n",
       "    <tr>\n",
       "      <th>5</th>\n",
       "      <td>Introdução à programação</td>\n",
       "      <td>Programação</td>\n",
       "      <td>20 horas</td>\n",
       "      <td>100</td>\n",
       "      <td>2022-01-01</td>\n",
       "      <td>2022-01-20</td>\n",
       "      <td>Curso introdutório à programação com Python</td>\n",
       "      <td>99.90</td>\n",
       "      <td>João Silva</td>\n",
       "      <td>joao.silva@emailaleatorio.com</td>\n",
       "      <td>(11) 9999-9999</td>\n",
       "    </tr>\n",
       "  </tbody>\n",
       "</table>\n",
       "</div>"
      ],
      "text/plain": [
       "                             curso      categoria carga_horaria concluintes  \\\n",
       "0         Introdução à programação    Programação      20 horas         100   \n",
       "1            Excel para iniciantes  Produtividade          None        None   \n",
       "2  Marketing digital para negócios      Marketing      30 horas          75   \n",
       "3          Inteligência artificial    Programação      40 horas               \n",
       "4             Inglês para negócios        Idiomas      20 horas          30   \n",
       "5         Introdução à programação    Programação      20 horas         100   \n",
       "\n",
       "  data_inicio data_conclusao  \\\n",
       "0  2022-01-01     2022-01-20   \n",
       "1        None           None   \n",
       "2  2022-03-01     2022-03-31   \n",
       "3  2022-04-01                  \n",
       "4                              \n",
       "5  2022-01-01     2022-01-20   \n",
       "\n",
       "                                           descricao  preco  instrutor.nome  \\\n",
       "0        Curso introdutório à programação com Python  99.90      João Silva   \n",
       "1                                               None   None  Maria Oliveira   \n",
       "2                    Curso introdutório em marketing   89.9      Ana Santos   \n",
       "3  Curso avançado sobre inteligência artificial c...  129.9                   \n",
       "4                      Curso de inglês para negócios   69.9      John Smith   \n",
       "5        Curso introdutório à programação com Python  99.90      João Silva   \n",
       "\n",
       "                     instrutor.email instrutor.telefone  \n",
       "0      joao.silva@emailaleatorio.com     (11) 9999-9999  \n",
       "1  maria.oliveira@emailaleatorio.com     (11) 8888-8888  \n",
       "2      ana.santos@emailaleatorio.com     (11) 7777-7777  \n",
       "3         contato@emailaleatorio.com                     \n",
       "4                                                        \n",
       "5      joao.silva@emailaleatorio.com     (11) 9999-9999  "
      ]
     },
     "execution_count": 29,
     "metadata": {},
     "output_type": "execute_result"
    }
   ],
   "source": [
    "# Importando as bibliotecas necessárias\n",
    "import pandas as pd\n",
    "import json\n",
    "\n",
    "# carrega o conjunto de dados\n",
    "with open('cursos_cadastrados.json', 'r', encoding='utf-8') as f:\n",
    "    data = json.load(f)\n",
    "\n",
    "# normaliza o json\n",
    "df = pd.json_normalize(data)\n",
    "\n",
    "# exibe o DataFrame resultante\n",
    "df"
   ]
  },
  {
   "cell_type": "markdown",
   "id": "b7fa35bb-12b5-4df1-be26-540d0609c98c",
   "metadata": {},
   "source": [
    "#### Identificar e remover amostras com valores nulos"
   ]
  },
  {
   "cell_type": "code",
   "execution_count": 31,
   "id": "05e23341-e785-4e7c-af19-e0c34acfec2f",
   "metadata": {},
   "outputs": [
    {
     "data": {
      "text/plain": [
       "np.int64(6)"
      ]
     },
     "execution_count": 31,
     "metadata": {},
     "output_type": "execute_result"
    }
   ],
   "source": [
    "df.isnull().sum().sum()"
   ]
  },
  {
   "cell_type": "code",
   "execution_count": 32,
   "id": "01e78f92-f889-4c7e-b14e-b57f65022a6d",
   "metadata": {},
   "outputs": [
    {
     "data": {
      "text/html": [
       "<div>\n",
       "<style scoped>\n",
       "    .dataframe tbody tr th:only-of-type {\n",
       "        vertical-align: middle;\n",
       "    }\n",
       "\n",
       "    .dataframe tbody tr th {\n",
       "        vertical-align: top;\n",
       "    }\n",
       "\n",
       "    .dataframe thead th {\n",
       "        text-align: right;\n",
       "    }\n",
       "</style>\n",
       "<table border=\"1\" class=\"dataframe\">\n",
       "  <thead>\n",
       "    <tr style=\"text-align: right;\">\n",
       "      <th></th>\n",
       "      <th>curso</th>\n",
       "      <th>categoria</th>\n",
       "      <th>carga_horaria</th>\n",
       "      <th>concluintes</th>\n",
       "      <th>data_inicio</th>\n",
       "      <th>data_conclusao</th>\n",
       "      <th>descricao</th>\n",
       "      <th>preco</th>\n",
       "      <th>instrutor.nome</th>\n",
       "      <th>instrutor.email</th>\n",
       "      <th>instrutor.telefone</th>\n",
       "    </tr>\n",
       "  </thead>\n",
       "  <tbody>\n",
       "    <tr>\n",
       "      <th>1</th>\n",
       "      <td>Excel para iniciantes</td>\n",
       "      <td>Produtividade</td>\n",
       "      <td>None</td>\n",
       "      <td>None</td>\n",
       "      <td>None</td>\n",
       "      <td>None</td>\n",
       "      <td>None</td>\n",
       "      <td>None</td>\n",
       "      <td>Maria Oliveira</td>\n",
       "      <td>maria.oliveira@emailaleatorio.com</td>\n",
       "      <td>(11) 8888-8888</td>\n",
       "    </tr>\n",
       "  </tbody>\n",
       "</table>\n",
       "</div>"
      ],
      "text/plain": [
       "                   curso      categoria carga_horaria concluintes data_inicio  \\\n",
       "1  Excel para iniciantes  Produtividade          None        None        None   \n",
       "\n",
       "  data_conclusao descricao preco  instrutor.nome  \\\n",
       "1           None      None  None  Maria Oliveira   \n",
       "\n",
       "                     instrutor.email instrutor.telefone  \n",
       "1  maria.oliveira@emailaleatorio.com     (11) 8888-8888  "
      ]
     },
     "execution_count": 32,
     "metadata": {},
     "output_type": "execute_result"
    }
   ],
   "source": [
    "df[df.isna().any(axis=1)]"
   ]
  },
  {
   "cell_type": "code",
   "execution_count": 33,
   "id": "8937040e-f631-4ff8-a20b-7ab2830706f2",
   "metadata": {},
   "outputs": [],
   "source": [
    "df.dropna(inplace=True)"
   ]
  },
  {
   "cell_type": "markdown",
   "id": "054cfa15-a68f-4c26-a40b-818d9b9b4770",
   "metadata": {},
   "source": [
    "#### Identificar e remover amostras com valores duplicados"
   ]
  },
  {
   "cell_type": "code",
   "execution_count": 34,
   "id": "74bafdba-baa1-49f6-8dce-7cd1d173c984",
   "metadata": {},
   "outputs": [
    {
     "data": {
      "text/plain": [
       "0    False\n",
       "2    False\n",
       "3    False\n",
       "4    False\n",
       "5     True\n",
       "dtype: bool"
      ]
     },
     "execution_count": 34,
     "metadata": {},
     "output_type": "execute_result"
    }
   ],
   "source": [
    "df.duplicated()"
   ]
  },
  {
   "cell_type": "code",
   "execution_count": 35,
   "id": "2c000b8e-c34c-43d6-bb58-e4149ad15d81",
   "metadata": {},
   "outputs": [],
   "source": [
    "df.drop_duplicates(inplace=True)"
   ]
  },
  {
   "cell_type": "markdown",
   "id": "6c82aa55-1a23-4190-8fe4-00c6b190956c",
   "metadata": {},
   "source": [
    "#### Remover as amostras com strings vazias"
   ]
  },
  {
   "cell_type": "code",
   "execution_count": 36,
   "id": "61877e8c-625b-462d-809a-2abfda9b5d22",
   "metadata": {},
   "outputs": [
    {
     "data": {
      "text/html": [
       "<div>\n",
       "<style scoped>\n",
       "    .dataframe tbody tr th:only-of-type {\n",
       "        vertical-align: middle;\n",
       "    }\n",
       "\n",
       "    .dataframe tbody tr th {\n",
       "        vertical-align: top;\n",
       "    }\n",
       "\n",
       "    .dataframe thead th {\n",
       "        text-align: right;\n",
       "    }\n",
       "</style>\n",
       "<table border=\"1\" class=\"dataframe\">\n",
       "  <thead>\n",
       "    <tr style=\"text-align: right;\">\n",
       "      <th></th>\n",
       "      <th>curso</th>\n",
       "      <th>categoria</th>\n",
       "      <th>carga_horaria</th>\n",
       "      <th>concluintes</th>\n",
       "      <th>data_inicio</th>\n",
       "      <th>data_conclusao</th>\n",
       "      <th>descricao</th>\n",
       "      <th>preco</th>\n",
       "      <th>instrutor.nome</th>\n",
       "      <th>instrutor.email</th>\n",
       "      <th>instrutor.telefone</th>\n",
       "    </tr>\n",
       "  </thead>\n",
       "  <tbody>\n",
       "    <tr>\n",
       "      <th>3</th>\n",
       "      <td>Inteligência artificial</td>\n",
       "      <td>Programação</td>\n",
       "      <td>40 horas</td>\n",
       "      <td></td>\n",
       "      <td>2022-04-01</td>\n",
       "      <td></td>\n",
       "      <td>Curso avançado sobre inteligência artificial c...</td>\n",
       "      <td>129.9</td>\n",
       "      <td></td>\n",
       "      <td>contato@emailaleatorio.com</td>\n",
       "      <td></td>\n",
       "    </tr>\n",
       "  </tbody>\n",
       "</table>\n",
       "</div>"
      ],
      "text/plain": [
       "                     curso    categoria carga_horaria concluintes data_inicio  \\\n",
       "3  Inteligência artificial  Programação      40 horas              2022-04-01   \n",
       "\n",
       "  data_conclusao                                          descricao  preco  \\\n",
       "3                 Curso avançado sobre inteligência artificial c...  129.9   \n",
       "\n",
       "  instrutor.nome             instrutor.email instrutor.telefone  \n",
       "3                 contato@emailaleatorio.com                     "
      ]
     },
     "execution_count": 36,
     "metadata": {},
     "output_type": "execute_result"
    }
   ],
   "source": [
    "df[df['instrutor.nome'] == \"\"]"
   ]
  },
  {
   "cell_type": "code",
   "execution_count": 37,
   "id": "5c5f9752-607f-41c3-83e2-acb57c00ddd8",
   "metadata": {},
   "outputs": [
    {
     "data": {
      "text/html": [
       "<div>\n",
       "<style scoped>\n",
       "    .dataframe tbody tr th:only-of-type {\n",
       "        vertical-align: middle;\n",
       "    }\n",
       "\n",
       "    .dataframe tbody tr th {\n",
       "        vertical-align: top;\n",
       "    }\n",
       "\n",
       "    .dataframe thead th {\n",
       "        text-align: right;\n",
       "    }\n",
       "</style>\n",
       "<table border=\"1\" class=\"dataframe\">\n",
       "  <thead>\n",
       "    <tr style=\"text-align: right;\">\n",
       "      <th></th>\n",
       "      <th>curso</th>\n",
       "      <th>categoria</th>\n",
       "      <th>carga_horaria</th>\n",
       "      <th>concluintes</th>\n",
       "      <th>data_inicio</th>\n",
       "      <th>data_conclusao</th>\n",
       "      <th>descricao</th>\n",
       "      <th>preco</th>\n",
       "      <th>instrutor.nome</th>\n",
       "      <th>instrutor.email</th>\n",
       "      <th>instrutor.telefone</th>\n",
       "    </tr>\n",
       "  </thead>\n",
       "  <tbody>\n",
       "    <tr>\n",
       "      <th>3</th>\n",
       "      <td>Inteligência artificial</td>\n",
       "      <td>Programação</td>\n",
       "      <td>40 horas</td>\n",
       "      <td></td>\n",
       "      <td>2022-04-01</td>\n",
       "      <td></td>\n",
       "      <td>Curso avançado sobre inteligência artificial c...</td>\n",
       "      <td>129.9</td>\n",
       "      <td></td>\n",
       "      <td>contato@emailaleatorio.com</td>\n",
       "      <td></td>\n",
       "    </tr>\n",
       "    <tr>\n",
       "      <th>4</th>\n",
       "      <td>Inglês para negócios</td>\n",
       "      <td>Idiomas</td>\n",
       "      <td>20 horas</td>\n",
       "      <td>30</td>\n",
       "      <td></td>\n",
       "      <td></td>\n",
       "      <td>Curso de inglês para negócios</td>\n",
       "      <td>69.9</td>\n",
       "      <td>John Smith</td>\n",
       "      <td></td>\n",
       "      <td></td>\n",
       "    </tr>\n",
       "  </tbody>\n",
       "</table>\n",
       "</div>"
      ],
      "text/plain": [
       "                     curso    categoria carga_horaria concluintes data_inicio  \\\n",
       "3  Inteligência artificial  Programação      40 horas              2022-04-01   \n",
       "4     Inglês para negócios      Idiomas      20 horas          30               \n",
       "\n",
       "  data_conclusao                                          descricao  preco  \\\n",
       "3                 Curso avançado sobre inteligência artificial c...  129.9   \n",
       "4                                     Curso de inglês para negócios   69.9   \n",
       "\n",
       "  instrutor.nome             instrutor.email instrutor.telefone  \n",
       "3                 contato@emailaleatorio.com                     \n",
       "4     John Smith                                                 "
      ]
     },
     "execution_count": 37,
     "metadata": {},
     "output_type": "execute_result"
    }
   ],
   "source": [
    "df[df['data_conclusao'] == \"\"]"
   ]
  },
  {
   "cell_type": "code",
   "execution_count": 39,
   "id": "1ca95fac-5282-47e6-8703-aa6d7420d43c",
   "metadata": {},
   "outputs": [
    {
     "data": {
      "text/html": [
       "<div>\n",
       "<style scoped>\n",
       "    .dataframe tbody tr th:only-of-type {\n",
       "        vertical-align: middle;\n",
       "    }\n",
       "\n",
       "    .dataframe tbody tr th {\n",
       "        vertical-align: top;\n",
       "    }\n",
       "\n",
       "    .dataframe thead th {\n",
       "        text-align: right;\n",
       "    }\n",
       "</style>\n",
       "<table border=\"1\" class=\"dataframe\">\n",
       "  <thead>\n",
       "    <tr style=\"text-align: right;\">\n",
       "      <th></th>\n",
       "      <th>curso</th>\n",
       "      <th>categoria</th>\n",
       "      <th>carga_horaria</th>\n",
       "      <th>concluintes</th>\n",
       "      <th>data_inicio</th>\n",
       "      <th>data_conclusao</th>\n",
       "      <th>descricao</th>\n",
       "      <th>preco</th>\n",
       "      <th>instrutor.nome</th>\n",
       "      <th>instrutor.email</th>\n",
       "      <th>instrutor.telefone</th>\n",
       "    </tr>\n",
       "  </thead>\n",
       "  <tbody>\n",
       "    <tr>\n",
       "      <th>0</th>\n",
       "      <td>Introdução à programação</td>\n",
       "      <td>Programação</td>\n",
       "      <td>20 horas</td>\n",
       "      <td>100</td>\n",
       "      <td>2022-01-01</td>\n",
       "      <td>2022-01-20</td>\n",
       "      <td>Curso introdutório à programação com Python</td>\n",
       "      <td>99.90</td>\n",
       "      <td>João Silva</td>\n",
       "      <td>joao.silva@emailaleatorio.com</td>\n",
       "      <td>(11) 9999-9999</td>\n",
       "    </tr>\n",
       "    <tr>\n",
       "      <th>2</th>\n",
       "      <td>Marketing digital para negócios</td>\n",
       "      <td>Marketing</td>\n",
       "      <td>30 horas</td>\n",
       "      <td>75</td>\n",
       "      <td>2022-03-01</td>\n",
       "      <td>2022-03-31</td>\n",
       "      <td>Curso introdutório em marketing</td>\n",
       "      <td>89.9</td>\n",
       "      <td>Ana Santos</td>\n",
       "      <td>ana.santos@emailaleatorio.com</td>\n",
       "      <td>(11) 7777-7777</td>\n",
       "    </tr>\n",
       "    <tr>\n",
       "      <th>3</th>\n",
       "      <td>Inteligência artificial</td>\n",
       "      <td>Programação</td>\n",
       "      <td>40 horas</td>\n",
       "      <td>&lt;NA&gt;</td>\n",
       "      <td>2022-04-01</td>\n",
       "      <td>&lt;NA&gt;</td>\n",
       "      <td>Curso avançado sobre inteligência artificial c...</td>\n",
       "      <td>129.9</td>\n",
       "      <td>&lt;NA&gt;</td>\n",
       "      <td>contato@emailaleatorio.com</td>\n",
       "      <td>&lt;NA&gt;</td>\n",
       "    </tr>\n",
       "    <tr>\n",
       "      <th>4</th>\n",
       "      <td>Inglês para negócios</td>\n",
       "      <td>Idiomas</td>\n",
       "      <td>20 horas</td>\n",
       "      <td>30</td>\n",
       "      <td>&lt;NA&gt;</td>\n",
       "      <td>&lt;NA&gt;</td>\n",
       "      <td>Curso de inglês para negócios</td>\n",
       "      <td>69.9</td>\n",
       "      <td>John Smith</td>\n",
       "      <td>&lt;NA&gt;</td>\n",
       "      <td>&lt;NA&gt;</td>\n",
       "    </tr>\n",
       "  </tbody>\n",
       "</table>\n",
       "</div>"
      ],
      "text/plain": [
       "                             curso    categoria carga_horaria concluintes  \\\n",
       "0         Introdução à programação  Programação      20 horas         100   \n",
       "2  Marketing digital para negócios    Marketing      30 horas          75   \n",
       "3          Inteligência artificial  Programação      40 horas        <NA>   \n",
       "4             Inglês para negócios      Idiomas      20 horas          30   \n",
       "\n",
       "  data_inicio data_conclusao  \\\n",
       "0  2022-01-01     2022-01-20   \n",
       "2  2022-03-01     2022-03-31   \n",
       "3  2022-04-01           <NA>   \n",
       "4        <NA>           <NA>   \n",
       "\n",
       "                                           descricao  preco instrutor.nome  \\\n",
       "0        Curso introdutório à programação com Python  99.90     João Silva   \n",
       "2                    Curso introdutório em marketing   89.9     Ana Santos   \n",
       "3  Curso avançado sobre inteligência artificial c...  129.9           <NA>   \n",
       "4                      Curso de inglês para negócios   69.9     John Smith   \n",
       "\n",
       "                 instrutor.email instrutor.telefone  \n",
       "0  joao.silva@emailaleatorio.com     (11) 9999-9999  \n",
       "2  ana.santos@emailaleatorio.com     (11) 7777-7777  \n",
       "3     contato@emailaleatorio.com               <NA>  \n",
       "4                           <NA>               <NA>  "
      ]
     },
     "execution_count": 39,
     "metadata": {},
     "output_type": "execute_result"
    }
   ],
   "source": [
    "# Substitui strings vazias por valores nulos\n",
    "df.replace('', pd.NA, inplace=True)\n",
    "\n",
    "df"
   ]
  },
  {
   "cell_type": "code",
   "execution_count": 41,
   "id": "9d29541e-14b7-4ff4-a8a4-b7d2ab563189",
   "metadata": {},
   "outputs": [
    {
     "data": {
      "text/html": [
       "<div>\n",
       "<style scoped>\n",
       "    .dataframe tbody tr th:only-of-type {\n",
       "        vertical-align: middle;\n",
       "    }\n",
       "\n",
       "    .dataframe tbody tr th {\n",
       "        vertical-align: top;\n",
       "    }\n",
       "\n",
       "    .dataframe thead th {\n",
       "        text-align: right;\n",
       "    }\n",
       "</style>\n",
       "<table border=\"1\" class=\"dataframe\">\n",
       "  <thead>\n",
       "    <tr style=\"text-align: right;\">\n",
       "      <th></th>\n",
       "      <th>curso</th>\n",
       "      <th>categoria</th>\n",
       "      <th>carga_horaria</th>\n",
       "      <th>concluintes</th>\n",
       "      <th>data_inicio</th>\n",
       "      <th>data_conclusao</th>\n",
       "      <th>descricao</th>\n",
       "      <th>preco</th>\n",
       "      <th>instrutor.nome</th>\n",
       "      <th>instrutor.email</th>\n",
       "      <th>instrutor.telefone</th>\n",
       "    </tr>\n",
       "  </thead>\n",
       "  <tbody>\n",
       "    <tr>\n",
       "      <th>0</th>\n",
       "      <td>Introdução à programação</td>\n",
       "      <td>Programação</td>\n",
       "      <td>20 horas</td>\n",
       "      <td>100</td>\n",
       "      <td>2022-01-01</td>\n",
       "      <td>2022-01-20</td>\n",
       "      <td>Curso introdutório à programação com Python</td>\n",
       "      <td>99.90</td>\n",
       "      <td>João Silva</td>\n",
       "      <td>joao.silva@emailaleatorio.com</td>\n",
       "      <td>(11) 9999-9999</td>\n",
       "    </tr>\n",
       "    <tr>\n",
       "      <th>2</th>\n",
       "      <td>Marketing digital para negócios</td>\n",
       "      <td>Marketing</td>\n",
       "      <td>30 horas</td>\n",
       "      <td>75</td>\n",
       "      <td>2022-03-01</td>\n",
       "      <td>2022-03-31</td>\n",
       "      <td>Curso introdutório em marketing</td>\n",
       "      <td>89.9</td>\n",
       "      <td>Ana Santos</td>\n",
       "      <td>ana.santos@emailaleatorio.com</td>\n",
       "      <td>(11) 7777-7777</td>\n",
       "    </tr>\n",
       "  </tbody>\n",
       "</table>\n",
       "</div>"
      ],
      "text/plain": [
       "                             curso    categoria carga_horaria concluintes  \\\n",
       "0         Introdução à programação  Programação      20 horas         100   \n",
       "2  Marketing digital para negócios    Marketing      30 horas          75   \n",
       "\n",
       "  data_inicio data_conclusao                                    descricao  \\\n",
       "0  2022-01-01     2022-01-20  Curso introdutório à programação com Python   \n",
       "2  2022-03-01     2022-03-31              Curso introdutório em marketing   \n",
       "\n",
       "   preco instrutor.nome                instrutor.email instrutor.telefone  \n",
       "0  99.90     João Silva  joao.silva@emailaleatorio.com     (11) 9999-9999  \n",
       "2   89.9     Ana Santos  ana.santos@emailaleatorio.com     (11) 7777-7777  "
      ]
     },
     "execution_count": 41,
     "metadata": {},
     "output_type": "execute_result"
    }
   ],
   "source": [
    "df.dropna(inplace=True)\n",
    "df"
   ]
  },
  {
   "cell_type": "markdown",
   "id": "0b99f16f-0cf5-4fb9-ba6f-a0146ccbf6ea",
   "metadata": {},
   "source": [
    "#### Fazer o cast das colunas para seus tipos corretos"
   ]
  },
  {
   "cell_type": "code",
   "execution_count": 43,
   "id": "24c11c83-9e5c-469e-b022-57adac52ade9",
   "metadata": {},
   "outputs": [
    {
     "name": "stdout",
     "output_type": "stream",
     "text": [
      "<class 'pandas.core.frame.DataFrame'>\n",
      "Index: 2 entries, 0 to 2\n",
      "Data columns (total 11 columns):\n",
      " #   Column              Non-Null Count  Dtype \n",
      "---  ------              --------------  ----- \n",
      " 0   curso               2 non-null      object\n",
      " 1   categoria           2 non-null      object\n",
      " 2   carga_horaria       2 non-null      object\n",
      " 3   concluintes         2 non-null      object\n",
      " 4   data_inicio         2 non-null      object\n",
      " 5   data_conclusao      2 non-null      object\n",
      " 6   descricao           2 non-null      object\n",
      " 7   preco               2 non-null      object\n",
      " 8   instrutor.nome      2 non-null      object\n",
      " 9   instrutor.email     2 non-null      object\n",
      " 10  instrutor.telefone  2 non-null      object\n",
      "dtypes: object(11)\n",
      "memory usage: 192.0+ bytes\n"
     ]
    }
   ],
   "source": [
    "df.info()"
   ]
  },
  {
   "cell_type": "code",
   "execution_count": 44,
   "id": "5b86f0df-ea89-47c5-bc56-4121965db34c",
   "metadata": {},
   "outputs": [],
   "source": [
    "# Converte a concluintes para o tipo inteiro\n",
    "df['concluintes'] = df['concluintes'].astype(int)\n",
    "\n",
    "# Converte a coluna data_inicio e data_conclusao para o tipo datetime\n",
    "df['data_inicio'] = pd.to_datetime(df['data_inicio'])\n",
    "df['data_conclusao'] = pd.to_datetime(df['data_conclusao'])\n",
    "\n",
    "# Convertendo a coluna preço para o tipo float\n",
    "df['preco'] = df['preco'].astype(float)"
   ]
  },
  {
   "cell_type": "code",
   "execution_count": 45,
   "id": "117ba26e-ae8c-4634-b25e-ed4f49cb3947",
   "metadata": {},
   "outputs": [
    {
     "name": "stdout",
     "output_type": "stream",
     "text": [
      "<class 'pandas.core.frame.DataFrame'>\n",
      "Index: 2 entries, 0 to 2\n",
      "Data columns (total 11 columns):\n",
      " #   Column              Non-Null Count  Dtype         \n",
      "---  ------              --------------  -----         \n",
      " 0   curso               2 non-null      object        \n",
      " 1   categoria           2 non-null      object        \n",
      " 2   carga_horaria       2 non-null      object        \n",
      " 3   concluintes         2 non-null      int64         \n",
      " 4   data_inicio         2 non-null      datetime64[ns]\n",
      " 5   data_conclusao      2 non-null      datetime64[ns]\n",
      " 6   descricao           2 non-null      object        \n",
      " 7   preco               2 non-null      float64       \n",
      " 8   instrutor.nome      2 non-null      object        \n",
      " 9   instrutor.email     2 non-null      object        \n",
      " 10  instrutor.telefone  2 non-null      object        \n",
      "dtypes: datetime64[ns](2), float64(1), int64(1), object(7)\n",
      "memory usage: 192.0+ bytes\n"
     ]
    }
   ],
   "source": [
    "df.info()"
   ]
  },
  {
   "cell_type": "code",
   "execution_count": 46,
   "id": "8bc4c4fe-b3c5-4920-9af1-5388e42fae1f",
   "metadata": {},
   "outputs": [],
   "source": [
    "import pandas as pd\n",
    "\n",
    "# criando um DataFrame com 30 transações aleatórias\n",
    "df = pd.DataFrame({\n",
    "    'ID da transação': range(1, 31),\n",
    "    'Valor da transação': [100, 200, 150, 500, 300, 913, 250, 400, 200, 150, \n",
    "                           200, 200, 400, 300, 150, 301, 805, 300, 400, 250, \n",
    "                           150, 100, 500, 600, 200, 350, 100, 250, 800, 250],\n",
    "    'Data da transação': pd.date_range(start='2022-01-01', end='2022-01-30', freq='D'),\n",
    "    'Local da transação': ['São Paulo, Brasil', 'Rio de Janeiro, Brasil', 'Belo Horizonte, Brasil', 'São Paulo, Brasil', \n",
    "                           'São Paulo, Brasil', 'Nova Iorque, EUA', 'São Paulo, Brasil', 'São Paulo, Brasil', 'São Paulo, Brasil',\n",
    "                           'Rio de Janeiro, Brasil', 'São Paulo, Brasil', 'São Paulo, Brasil', 'São Paulo, Brasil', 'São Paulo, Brasil',\n",
    "                           'São Paulo, Brasil', 'São Paulo, Brasil', 'Los Angeles, EUA', 'São Paulo, Brasil', 'São Paulo, Brasil', 'São Paulo, Brasil',\n",
    "                           'São Paulo, Brasil', 'São Paulo, Brasil', 'São Paulo, Brasil', 'São Paulo, Brasil', 'São Paulo, Brasil', 'São Paulo, Brasil',\n",
    "                           'São Paulo, Brasil', 'São Paulo, Brasil', 'Miami, EUA', 'São Paulo, Brasil']\n",
    "})"
   ]
  },
  {
   "cell_type": "code",
   "execution_count": 47,
   "id": "6819397f-1279-41ed-bd1d-57a7c701fecc",
   "metadata": {},
   "outputs": [],
   "source": [
    "def calc_outliers(column, dataframe): \n",
    "\n",
    "  # calculando o IQR e definindo o limite para outliers\n",
    "  Q1 = dataframe[column].quantile(0.25)\n",
    "  Q3 = dataframe[column].quantile(0.75)\n",
    "  IQR = Q3 - Q1\n",
    "  limite_inferior = Q1 - 1.5 * IQR\n",
    "  limite_superior = Q3 + 1.5 * IQR\n",
    "\n",
    "  # identificando os outliers\n",
    "  outliers = dataframe[(dataframe[column] < limite_inferior) | (dataframe[column] > limite_superior)]\n",
    "\n",
    "  # retornando os outliers\n",
    "  return outliers"
   ]
  },
  {
   "cell_type": "code",
   "execution_count": 48,
   "id": "6c6e04f8-4c59-47bb-bda8-a51718ccc3cf",
   "metadata": {},
   "outputs": [
    {
     "name": "stdout",
     "output_type": "stream",
     "text": [
      "    ID da transação  Valor da transação Data da transação Local da transação\n",
      "5                 6                 913        2022-01-06   Nova Iorque, EUA\n",
      "16               17                 805        2022-01-17   Los Angeles, EUA\n",
      "28               29                 800        2022-01-29         Miami, EUA\n"
     ]
    }
   ],
   "source": [
    "print(calc_outliers('Valor da transação', df))"
   ]
  },
  {
   "cell_type": "code",
   "execution_count": null,
   "id": "795a2b81-67b2-4407-87b1-88082471e35c",
   "metadata": {
    "editable": true,
    "slideshow": {
     "slide_type": ""
    },
    "tags": []
   },
   "outputs": [],
   "source": []
  }
 ],
 "metadata": {
  "kernelspec": {
   "display_name": "datascience",
   "language": "python",
   "name": "datascience"
  },
  "language_info": {
   "codemirror_mode": {
    "name": "ipython",
    "version": 3
   },
   "file_extension": ".py",
   "mimetype": "text/x-python",
   "name": "python",
   "nbconvert_exporter": "python",
   "pygments_lexer": "ipython3",
   "version": "3.12.11"
  }
 },
 "nbformat": 4,
 "nbformat_minor": 5
}
